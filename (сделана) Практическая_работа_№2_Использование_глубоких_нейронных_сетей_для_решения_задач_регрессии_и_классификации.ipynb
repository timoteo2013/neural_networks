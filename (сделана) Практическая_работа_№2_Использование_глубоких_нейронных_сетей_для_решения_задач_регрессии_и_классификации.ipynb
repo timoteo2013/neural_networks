{
 "cells": [
  {
   "cell_type": "markdown",
   "metadata": {
    "colab_type": "text",
    "id": "view-in-github"
   },
   "source": [
    "<a href=\"https://colab.research.google.com/github/DianaShramchenko/works/blob/main/2pr.ipynb\" target=\"_parent\"><img src=\"https://colab.research.google.com/assets/colab-badge.svg\" alt=\"Open In Colab\"/></a>"
   ]
  },
  {
   "cell_type": "markdown",
   "metadata": {
    "id": "jVOridAYaoD_"
   },
   "source": [
    "# Практическая работа №2. Использование глубоких нейронных сетей для решения задач регрессии и классификации\n",
    "\n"
   ]
  },
  {
   "cell_type": "markdown",
   "metadata": {
    "id": "xfLS4L8wbf5M"
   },
   "source": [
    "**Ссылка на код с пары:**\n",
    "https://colab.research.google.com/drive/18EM8mrpURStkmbxWjZybWbWh23Si5b4A?usp=sharing\n"
   ]
  },
  {
   "cell_type": "markdown",
   "metadata": {
    "id": "ChzaEMuFavMw"
   },
   "source": [
    "## Задание №1. Обучение модели ИНС для решения задачи регрессии\n",
    "\n"
   ]
  },
  {
   "cell_type": "markdown",
   "metadata": {
    "id": "_AW7ypoN3qSi"
   },
   "source": [
    "Постройте глубокую нейронную сеть для предсказания цен на недвижимость в городе Бостон, используя датасет датасет boston_housing_price"
   ]
  },
  {
   "cell_type": "markdown",
   "metadata": {
    "id": "O1PDCog53nrg"
   },
   "source": [
    "[Описание датасета](https://www.hackersrealm.net/post/boston-house-price-prediction-analysis-using-python)"
   ]
  },
  {
   "cell_type": "markdown",
   "metadata": {
    "id": "QWLURy8z0u3k"
   },
   "source": [
    "#### 1.1. Загружаем исходные данные:"
   ]
  },
  {
   "cell_type": "code",
   "execution_count": 2,
   "metadata": {
    "colab": {
     "base_uri": "https://localhost:8080/",
     "height": 206
    },
    "id": "vGAIXw8gzpLL",
    "outputId": "411498ef-0dd9-410f-e7f2-b8bbef9be4bd"
   },
   "outputs": [
    {
     "data": {
      "application/vnd.google.colaboratory.intrinsic+json": {
       "summary": "{\n  \"name\": \"X\",\n  \"rows\": 506,\n  \"fields\": [\n    {\n      \"column\": \"CRIM\",\n      \"properties\": {\n        \"dtype\": \"number\",\n        \"std\": 8.60154510533249,\n        \"min\": 0.00632,\n        \"max\": 88.9762,\n        \"num_unique_values\": 504,\n        \"samples\": [\n          0.09178,\n          0.05644,\n          0.10574\n        ],\n        \"semantic_type\": \"\",\n        \"description\": \"\"\n      }\n    },\n    {\n      \"column\": \"ZN\",\n      \"properties\": {\n        \"dtype\": \"number\",\n        \"std\": 23.32245299451514,\n        \"min\": 0.0,\n        \"max\": 100.0,\n        \"num_unique_values\": 26,\n        \"samples\": [\n          25.0,\n          30.0,\n          18.0\n        ],\n        \"semantic_type\": \"\",\n        \"description\": \"\"\n      }\n    },\n    {\n      \"column\": \"INDUS\",\n      \"properties\": {\n        \"dtype\": \"number\",\n        \"std\": 6.860352940897585,\n        \"min\": 0.46,\n        \"max\": 27.74,\n        \"num_unique_values\": 76,\n        \"samples\": [\n          8.14,\n          1.47,\n          1.22\n        ],\n        \"semantic_type\": \"\",\n        \"description\": \"\"\n      }\n    },\n    {\n      \"column\": \"CHAS\",\n      \"properties\": {\n        \"dtype\": \"number\",\n        \"std\": 0.25399404134041037,\n        \"min\": 0.0,\n        \"max\": 1.0,\n        \"num_unique_values\": 2,\n        \"samples\": [\n          1.0,\n          0.0\n        ],\n        \"semantic_type\": \"\",\n        \"description\": \"\"\n      }\n    },\n    {\n      \"column\": \"NOX\",\n      \"properties\": {\n        \"dtype\": \"number\",\n        \"std\": 0.11587767566755595,\n        \"min\": 0.385,\n        \"max\": 0.871,\n        \"num_unique_values\": 81,\n        \"samples\": [\n          0.401,\n          0.538\n        ],\n        \"semantic_type\": \"\",\n        \"description\": \"\"\n      }\n    },\n    {\n      \"column\": \"RM\",\n      \"properties\": {\n        \"dtype\": \"number\",\n        \"std\": 0.7026171434153233,\n        \"min\": 3.561,\n        \"max\": 8.78,\n        \"num_unique_values\": 446,\n        \"samples\": [\n          6.849,\n          4.88\n        ],\n        \"semantic_type\": \"\",\n        \"description\": \"\"\n      }\n    },\n    {\n      \"column\": \"AGE\",\n      \"properties\": {\n        \"dtype\": \"number\",\n        \"std\": 28.148861406903617,\n        \"min\": 2.9,\n        \"max\": 100.0,\n        \"num_unique_values\": 356,\n        \"samples\": [\n          51.8,\n          33.8\n        ],\n        \"semantic_type\": \"\",\n        \"description\": \"\"\n      }\n    },\n    {\n      \"column\": \"DIS\",\n      \"properties\": {\n        \"dtype\": \"number\",\n        \"std\": 2.105710126627611,\n        \"min\": 1.1296,\n        \"max\": 12.1265,\n        \"num_unique_values\": 412,\n        \"samples\": [\n          2.2955,\n          4.2515\n        ],\n        \"semantic_type\": \"\",\n        \"description\": \"\"\n      }\n    },\n    {\n      \"column\": \"RAD\",\n      \"properties\": {\n        \"dtype\": \"number\",\n        \"std\": 8.707259384239366,\n        \"min\": 1.0,\n        \"max\": 24.0,\n        \"num_unique_values\": 9,\n        \"samples\": [\n          7.0,\n          2.0\n        ],\n        \"semantic_type\": \"\",\n        \"description\": \"\"\n      }\n    },\n    {\n      \"column\": \"TAX\",\n      \"properties\": {\n        \"dtype\": \"number\",\n        \"std\": 168.53711605495903,\n        \"min\": 187.0,\n        \"max\": 711.0,\n        \"num_unique_values\": 66,\n        \"samples\": [\n          370.0,\n          666.0\n        ],\n        \"semantic_type\": \"\",\n        \"description\": \"\"\n      }\n    },\n    {\n      \"column\": \"PTRATIO\",\n      \"properties\": {\n        \"dtype\": \"number\",\n        \"std\": 2.1649455237144406,\n        \"min\": 12.6,\n        \"max\": 22.0,\n        \"num_unique_values\": 46,\n        \"samples\": [\n          19.6,\n          15.6\n        ],\n        \"semantic_type\": \"\",\n        \"description\": \"\"\n      }\n    },\n    {\n      \"column\": \"B\",\n      \"properties\": {\n        \"dtype\": \"number\",\n        \"std\": 91.29486438415783,\n        \"min\": 0.32,\n        \"max\": 396.9,\n        \"num_unique_values\": 357,\n        \"samples\": [\n          396.24,\n          395.11\n        ],\n        \"semantic_type\": \"\",\n        \"description\": \"\"\n      }\n    },\n    {\n      \"column\": \"LSTAT\",\n      \"properties\": {\n        \"dtype\": \"number\",\n        \"std\": 7.141061511348571,\n        \"min\": 1.73,\n        \"max\": 37.97,\n        \"num_unique_values\": 455,\n        \"samples\": [\n          6.15,\n          4.32\n        ],\n        \"semantic_type\": \"\",\n        \"description\": \"\"\n      }\n    },\n    {\n      \"column\": \"MEDV\",\n      \"properties\": {\n        \"dtype\": \"number\",\n        \"std\": 9.197104087379818,\n        \"min\": 5.0,\n        \"max\": 50.0,\n        \"num_unique_values\": 229,\n        \"samples\": [\n          14.1,\n          22.5\n        ],\n        \"semantic_type\": \"\",\n        \"description\": \"\"\n      }\n    }\n  ]\n}",
       "type": "dataframe",
       "variable_name": "X"
      },
      "text/html": [
       "\n",
       "  <div id=\"df-791111d7-492c-40bc-99cb-16beda95f68e\" class=\"colab-df-container\">\n",
       "    <div>\n",
       "<style scoped>\n",
       "    .dataframe tbody tr th:only-of-type {\n",
       "        vertical-align: middle;\n",
       "    }\n",
       "\n",
       "    .dataframe tbody tr th {\n",
       "        vertical-align: top;\n",
       "    }\n",
       "\n",
       "    .dataframe thead th {\n",
       "        text-align: right;\n",
       "    }\n",
       "</style>\n",
       "<table border=\"1\" class=\"dataframe\">\n",
       "  <thead>\n",
       "    <tr style=\"text-align: right;\">\n",
       "      <th></th>\n",
       "      <th>CRIM</th>\n",
       "      <th>ZN</th>\n",
       "      <th>INDUS</th>\n",
       "      <th>CHAS</th>\n",
       "      <th>NOX</th>\n",
       "      <th>RM</th>\n",
       "      <th>AGE</th>\n",
       "      <th>DIS</th>\n",
       "      <th>RAD</th>\n",
       "      <th>TAX</th>\n",
       "      <th>PTRATIO</th>\n",
       "      <th>B</th>\n",
       "      <th>LSTAT</th>\n",
       "      <th>MEDV</th>\n",
       "    </tr>\n",
       "  </thead>\n",
       "  <tbody>\n",
       "    <tr>\n",
       "      <th>0</th>\n",
       "      <td>0.00632</td>\n",
       "      <td>18.0</td>\n",
       "      <td>2.31</td>\n",
       "      <td>0.0</td>\n",
       "      <td>0.538</td>\n",
       "      <td>6.575</td>\n",
       "      <td>65.2</td>\n",
       "      <td>4.0900</td>\n",
       "      <td>1.0</td>\n",
       "      <td>296.0</td>\n",
       "      <td>15.3</td>\n",
       "      <td>396.90</td>\n",
       "      <td>4.98</td>\n",
       "      <td>24.0</td>\n",
       "    </tr>\n",
       "    <tr>\n",
       "      <th>1</th>\n",
       "      <td>0.02731</td>\n",
       "      <td>0.0</td>\n",
       "      <td>7.07</td>\n",
       "      <td>0.0</td>\n",
       "      <td>0.469</td>\n",
       "      <td>6.421</td>\n",
       "      <td>78.9</td>\n",
       "      <td>4.9671</td>\n",
       "      <td>2.0</td>\n",
       "      <td>242.0</td>\n",
       "      <td>17.8</td>\n",
       "      <td>396.90</td>\n",
       "      <td>9.14</td>\n",
       "      <td>21.6</td>\n",
       "    </tr>\n",
       "    <tr>\n",
       "      <th>2</th>\n",
       "      <td>0.02729</td>\n",
       "      <td>0.0</td>\n",
       "      <td>7.07</td>\n",
       "      <td>0.0</td>\n",
       "      <td>0.469</td>\n",
       "      <td>7.185</td>\n",
       "      <td>61.1</td>\n",
       "      <td>4.9671</td>\n",
       "      <td>2.0</td>\n",
       "      <td>242.0</td>\n",
       "      <td>17.8</td>\n",
       "      <td>392.83</td>\n",
       "      <td>4.03</td>\n",
       "      <td>34.7</td>\n",
       "    </tr>\n",
       "    <tr>\n",
       "      <th>3</th>\n",
       "      <td>0.03237</td>\n",
       "      <td>0.0</td>\n",
       "      <td>2.18</td>\n",
       "      <td>0.0</td>\n",
       "      <td>0.458</td>\n",
       "      <td>6.998</td>\n",
       "      <td>45.8</td>\n",
       "      <td>6.0622</td>\n",
       "      <td>3.0</td>\n",
       "      <td>222.0</td>\n",
       "      <td>18.7</td>\n",
       "      <td>394.63</td>\n",
       "      <td>2.94</td>\n",
       "      <td>33.4</td>\n",
       "    </tr>\n",
       "    <tr>\n",
       "      <th>4</th>\n",
       "      <td>0.06905</td>\n",
       "      <td>0.0</td>\n",
       "      <td>2.18</td>\n",
       "      <td>0.0</td>\n",
       "      <td>0.458</td>\n",
       "      <td>7.147</td>\n",
       "      <td>54.2</td>\n",
       "      <td>6.0622</td>\n",
       "      <td>3.0</td>\n",
       "      <td>222.0</td>\n",
       "      <td>18.7</td>\n",
       "      <td>396.90</td>\n",
       "      <td>5.33</td>\n",
       "      <td>36.2</td>\n",
       "    </tr>\n",
       "  </tbody>\n",
       "</table>\n",
       "</div>\n",
       "    <div class=\"colab-df-buttons\">\n",
       "\n",
       "  <div class=\"colab-df-container\">\n",
       "    <button class=\"colab-df-convert\" onclick=\"convertToInteractive('df-791111d7-492c-40bc-99cb-16beda95f68e')\"\n",
       "            title=\"Convert this dataframe to an interactive table.\"\n",
       "            style=\"display:none;\">\n",
       "\n",
       "  <svg xmlns=\"http://www.w3.org/2000/svg\" height=\"24px\" viewBox=\"0 -960 960 960\">\n",
       "    <path d=\"M120-120v-720h720v720H120Zm60-500h600v-160H180v160Zm220 220h160v-160H400v160Zm0 220h160v-160H400v160ZM180-400h160v-160H180v160Zm440 0h160v-160H620v160ZM180-180h160v-160H180v160Zm440 0h160v-160H620v160Z\"/>\n",
       "  </svg>\n",
       "    </button>\n",
       "\n",
       "  <style>\n",
       "    .colab-df-container {\n",
       "      display:flex;\n",
       "      gap: 12px;\n",
       "    }\n",
       "\n",
       "    .colab-df-convert {\n",
       "      background-color: #E8F0FE;\n",
       "      border: none;\n",
       "      border-radius: 50%;\n",
       "      cursor: pointer;\n",
       "      display: none;\n",
       "      fill: #1967D2;\n",
       "      height: 32px;\n",
       "      padding: 0 0 0 0;\n",
       "      width: 32px;\n",
       "    }\n",
       "\n",
       "    .colab-df-convert:hover {\n",
       "      background-color: #E2EBFA;\n",
       "      box-shadow: 0px 1px 2px rgba(60, 64, 67, 0.3), 0px 1px 3px 1px rgba(60, 64, 67, 0.15);\n",
       "      fill: #174EA6;\n",
       "    }\n",
       "\n",
       "    .colab-df-buttons div {\n",
       "      margin-bottom: 4px;\n",
       "    }\n",
       "\n",
       "    [theme=dark] .colab-df-convert {\n",
       "      background-color: #3B4455;\n",
       "      fill: #D2E3FC;\n",
       "    }\n",
       "\n",
       "    [theme=dark] .colab-df-convert:hover {\n",
       "      background-color: #434B5C;\n",
       "      box-shadow: 0px 1px 3px 1px rgba(0, 0, 0, 0.15);\n",
       "      filter: drop-shadow(0px 1px 2px rgba(0, 0, 0, 0.3));\n",
       "      fill: #FFFFFF;\n",
       "    }\n",
       "  </style>\n",
       "\n",
       "    <script>\n",
       "      const buttonEl =\n",
       "        document.querySelector('#df-791111d7-492c-40bc-99cb-16beda95f68e button.colab-df-convert');\n",
       "      buttonEl.style.display =\n",
       "        google.colab.kernel.accessAllowed ? 'block' : 'none';\n",
       "\n",
       "      async function convertToInteractive(key) {\n",
       "        const element = document.querySelector('#df-791111d7-492c-40bc-99cb-16beda95f68e');\n",
       "        const dataTable =\n",
       "          await google.colab.kernel.invokeFunction('convertToInteractive',\n",
       "                                                    [key], {});\n",
       "        if (!dataTable) return;\n",
       "\n",
       "        const docLinkHtml = 'Like what you see? Visit the ' +\n",
       "          '<a target=\"_blank\" href=https://colab.research.google.com/notebooks/data_table.ipynb>data table notebook</a>'\n",
       "          + ' to learn more about interactive tables.';\n",
       "        element.innerHTML = '';\n",
       "        dataTable['output_type'] = 'display_data';\n",
       "        await google.colab.output.renderOutput(dataTable, element);\n",
       "        const docLink = document.createElement('div');\n",
       "        docLink.innerHTML = docLinkHtml;\n",
       "        element.appendChild(docLink);\n",
       "      }\n",
       "    </script>\n",
       "  </div>\n",
       "\n",
       "\n",
       "<div id=\"df-e50844f6-08ea-48b3-9d08-adf32bf2d0be\">\n",
       "  <button class=\"colab-df-quickchart\" onclick=\"quickchart('df-e50844f6-08ea-48b3-9d08-adf32bf2d0be')\"\n",
       "            title=\"Suggest charts\"\n",
       "            style=\"display:none;\">\n",
       "\n",
       "<svg xmlns=\"http://www.w3.org/2000/svg\" height=\"24px\"viewBox=\"0 0 24 24\"\n",
       "     width=\"24px\">\n",
       "    <g>\n",
       "        <path d=\"M19 3H5c-1.1 0-2 .9-2 2v14c0 1.1.9 2 2 2h14c1.1 0 2-.9 2-2V5c0-1.1-.9-2-2-2zM9 17H7v-7h2v7zm4 0h-2V7h2v10zm4 0h-2v-4h2v4z\"/>\n",
       "    </g>\n",
       "</svg>\n",
       "  </button>\n",
       "\n",
       "<style>\n",
       "  .colab-df-quickchart {\n",
       "      --bg-color: #E8F0FE;\n",
       "      --fill-color: #1967D2;\n",
       "      --hover-bg-color: #E2EBFA;\n",
       "      --hover-fill-color: #174EA6;\n",
       "      --disabled-fill-color: #AAA;\n",
       "      --disabled-bg-color: #DDD;\n",
       "  }\n",
       "\n",
       "  [theme=dark] .colab-df-quickchart {\n",
       "      --bg-color: #3B4455;\n",
       "      --fill-color: #D2E3FC;\n",
       "      --hover-bg-color: #434B5C;\n",
       "      --hover-fill-color: #FFFFFF;\n",
       "      --disabled-bg-color: #3B4455;\n",
       "      --disabled-fill-color: #666;\n",
       "  }\n",
       "\n",
       "  .colab-df-quickchart {\n",
       "    background-color: var(--bg-color);\n",
       "    border: none;\n",
       "    border-radius: 50%;\n",
       "    cursor: pointer;\n",
       "    display: none;\n",
       "    fill: var(--fill-color);\n",
       "    height: 32px;\n",
       "    padding: 0;\n",
       "    width: 32px;\n",
       "  }\n",
       "\n",
       "  .colab-df-quickchart:hover {\n",
       "    background-color: var(--hover-bg-color);\n",
       "    box-shadow: 0 1px 2px rgba(60, 64, 67, 0.3), 0 1px 3px 1px rgba(60, 64, 67, 0.15);\n",
       "    fill: var(--button-hover-fill-color);\n",
       "  }\n",
       "\n",
       "  .colab-df-quickchart-complete:disabled,\n",
       "  .colab-df-quickchart-complete:disabled:hover {\n",
       "    background-color: var(--disabled-bg-color);\n",
       "    fill: var(--disabled-fill-color);\n",
       "    box-shadow: none;\n",
       "  }\n",
       "\n",
       "  .colab-df-spinner {\n",
       "    border: 2px solid var(--fill-color);\n",
       "    border-color: transparent;\n",
       "    border-bottom-color: var(--fill-color);\n",
       "    animation:\n",
       "      spin 1s steps(1) infinite;\n",
       "  }\n",
       "\n",
       "  @keyframes spin {\n",
       "    0% {\n",
       "      border-color: transparent;\n",
       "      border-bottom-color: var(--fill-color);\n",
       "      border-left-color: var(--fill-color);\n",
       "    }\n",
       "    20% {\n",
       "      border-color: transparent;\n",
       "      border-left-color: var(--fill-color);\n",
       "      border-top-color: var(--fill-color);\n",
       "    }\n",
       "    30% {\n",
       "      border-color: transparent;\n",
       "      border-left-color: var(--fill-color);\n",
       "      border-top-color: var(--fill-color);\n",
       "      border-right-color: var(--fill-color);\n",
       "    }\n",
       "    40% {\n",
       "      border-color: transparent;\n",
       "      border-right-color: var(--fill-color);\n",
       "      border-top-color: var(--fill-color);\n",
       "    }\n",
       "    60% {\n",
       "      border-color: transparent;\n",
       "      border-right-color: var(--fill-color);\n",
       "    }\n",
       "    80% {\n",
       "      border-color: transparent;\n",
       "      border-right-color: var(--fill-color);\n",
       "      border-bottom-color: var(--fill-color);\n",
       "    }\n",
       "    90% {\n",
       "      border-color: transparent;\n",
       "      border-bottom-color: var(--fill-color);\n",
       "    }\n",
       "  }\n",
       "</style>\n",
       "\n",
       "  <script>\n",
       "    async function quickchart(key) {\n",
       "      const quickchartButtonEl =\n",
       "        document.querySelector('#' + key + ' button');\n",
       "      quickchartButtonEl.disabled = true;  // To prevent multiple clicks.\n",
       "      quickchartButtonEl.classList.add('colab-df-spinner');\n",
       "      try {\n",
       "        const charts = await google.colab.kernel.invokeFunction(\n",
       "            'suggestCharts', [key], {});\n",
       "      } catch (error) {\n",
       "        console.error('Error during call to suggestCharts:', error);\n",
       "      }\n",
       "      quickchartButtonEl.classList.remove('colab-df-spinner');\n",
       "      quickchartButtonEl.classList.add('colab-df-quickchart-complete');\n",
       "    }\n",
       "    (() => {\n",
       "      let quickchartButtonEl =\n",
       "        document.querySelector('#df-e50844f6-08ea-48b3-9d08-adf32bf2d0be button');\n",
       "      quickchartButtonEl.style.display =\n",
       "        google.colab.kernel.accessAllowed ? 'block' : 'none';\n",
       "    })();\n",
       "  </script>\n",
       "</div>\n",
       "    </div>\n",
       "  </div>\n"
      ],
      "text/plain": [
       "      CRIM    ZN  INDUS  CHAS    NOX     RM   AGE     DIS  RAD    TAX  \\\n",
       "0  0.00632  18.0   2.31   0.0  0.538  6.575  65.2  4.0900  1.0  296.0   \n",
       "1  0.02731   0.0   7.07   0.0  0.469  6.421  78.9  4.9671  2.0  242.0   \n",
       "2  0.02729   0.0   7.07   0.0  0.469  7.185  61.1  4.9671  2.0  242.0   \n",
       "3  0.03237   0.0   2.18   0.0  0.458  6.998  45.8  6.0622  3.0  222.0   \n",
       "4  0.06905   0.0   2.18   0.0  0.458  7.147  54.2  6.0622  3.0  222.0   \n",
       "\n",
       "   PTRATIO       B  LSTAT  MEDV  \n",
       "0     15.3  396.90   4.98  24.0  \n",
       "1     17.8  396.90   9.14  21.6  \n",
       "2     17.8  392.83   4.03  34.7  \n",
       "3     18.7  394.63   2.94  33.4  \n",
       "4     18.7  396.90   5.33  36.2  "
      ]
     },
     "execution_count": 2,
     "metadata": {},
     "output_type": "execute_result"
    }
   ],
   "source": [
    "import pandas as pd\n",
    "import numpy as np\n",
    "\n",
    "data_url = \"http://lib.stat.cmu.edu/datasets/boston\"\n",
    "raw_df = pd.read_csv(data_url, sep=\"\\s+\", skiprows=22, header=None)\n",
    "data = np.hstack([raw_df.values[::2, :], raw_df.values[1::2, :3]])\n",
    "target = raw_df.values[1::2, 2]\n",
    "\n",
    "# Имена переменных\n",
    "column_names = [\n",
    "    'CRIM', 'ZN', 'INDUS', 'CHAS', 'NOX', 'RM', 'AGE', 'DIS', 'RAD', 'TAX', 'PTRATIO', 'B', 'LSTAT', 'MEDV'\n",
    "]\n",
    "y = target\n",
    "# Создание DataFrame X с указанными именами столбцов\n",
    "X = pd.DataFrame(data, columns=column_names)\n",
    "\n",
    "# Вывод первых строк DataFrame X\n",
    "X.head()"
   ]
  },
  {
   "cell_type": "markdown",
   "metadata": {
    "id": "815ut8JJTIM7"
   },
   "source": [
    "#### 1.2. Проектируем архитектуру для этой задачи"
   ]
  },
  {
   "cell_type": "code",
   "execution_count": 3,
   "metadata": {
    "colab": {
     "base_uri": "https://localhost:8080/"
    },
    "id": "alrRyjbs1c8s",
    "outputId": "2264b0a0-67b9-41f3-a723-2b48655198c5"
   },
   "outputs": [
    {
     "name": "stdout",
     "output_type": "stream",
     "text": [
      "Model: \"sequential\"\n",
      "_________________________________________________________________\n",
      " Layer (type)                Output Shape              Param #   \n",
      "=================================================================\n",
      " dense (Dense)               (None, 28)                420       \n",
      "                                                                 \n",
      " dense_1 (Dense)             (None, 1)                 29        \n",
      "                                                                 \n",
      "=================================================================\n",
      "Total params: 449 (1.75 KB)\n",
      "Trainable params: 449 (1.75 KB)\n",
      "Non-trainable params: 0 (0.00 Byte)\n",
      "_________________________________________________________________\n"
     ]
    }
   ],
   "source": [
    "# Ваш код\n",
    "from keras.layers import Dense\n",
    "from keras.models import Sequential\n",
    "\n",
    "\n",
    "model = Sequential([\n",
    "    Dense(28, input_shape=(14,), activation='relu'),\n",
    "    Dense(1, activation='relu')\n",
    "])\n",
    "\n",
    "model.summary()"
   ]
  },
  {
   "cell_type": "markdown",
   "metadata": {
    "id": "F9E1W4yCT0YC"
   },
   "source": [
    "#### 1.3. Компилируем модель ИНС\n",
    "\n",
    "Подберите нужную функцию потерь и метрику."
   ]
  },
  {
   "cell_type": "code",
   "execution_count": 4,
   "metadata": {
    "id": "Fu8VHdqV1gqy"
   },
   "outputs": [],
   "source": [
    "# Ваш код\n",
    "model.compile(optimizer='sgd', loss='mse', metrics='mae')"
   ]
  },
  {
   "cell_type": "markdown",
   "metadata": {
    "id": "ebac-dNAUBtX"
   },
   "source": [
    "#### 1.4. Обучаем модель ИНС"
   ]
  },
  {
   "cell_type": "code",
   "execution_count": 5,
   "metadata": {
    "colab": {
     "base_uri": "https://localhost:8080/"
    },
    "id": "LcVz6t601hFI",
    "outputId": "1c7be547-03f3-42ef-da75-9f60e24dd4b0"
   },
   "outputs": [
    {
     "data": {
      "text/plain": [
       "((404, 14), (102, 14))"
      ]
     },
     "execution_count": 5,
     "metadata": {},
     "output_type": "execute_result"
    }
   ],
   "source": [
    "# Ваш код\n",
    "from sklearn.model_selection import train_test_split\n",
    "\n",
    "X_train, X_test, y_train, y_test = train_test_split(X.values, y, test_size=0.2, random_state=0)\n",
    "X_train.shape, X_test.shape"
   ]
  },
  {
   "cell_type": "code",
   "execution_count": 6,
   "metadata": {
    "colab": {
     "base_uri": "https://localhost:8080/"
    },
    "id": "hTmz_5nQeX3o",
    "outputId": "47a08688-2bd1-4d4a-bd8b-9943182fff31"
   },
   "outputs": [
    {
     "name": "stdout",
     "output_type": "stream",
     "text": [
      "Epoch 1/10\n",
      "13/13 [==============================] - 2s 6ms/step - loss: 724.1970 - mae: 24.2396\n",
      "Epoch 2/10\n",
      "13/13 [==============================] - 0s 6ms/step - loss: 596.4409 - mae: 22.6119\n",
      "Epoch 3/10\n",
      "13/13 [==============================] - 0s 7ms/step - loss: 596.4409 - mae: 22.6119\n",
      "Epoch 4/10\n",
      "13/13 [==============================] - 0s 10ms/step - loss: 596.4409 - mae: 22.6119\n",
      "Epoch 5/10\n",
      "13/13 [==============================] - 0s 10ms/step - loss: 596.4409 - mae: 22.6119\n",
      "Epoch 6/10\n",
      "13/13 [==============================] - 0s 7ms/step - loss: 596.4409 - mae: 22.6119\n",
      "Epoch 7/10\n",
      "13/13 [==============================] - 0s 7ms/step - loss: 596.4409 - mae: 22.6119\n",
      "Epoch 8/10\n",
      "13/13 [==============================] - 0s 10ms/step - loss: 596.4409 - mae: 22.6119\n",
      "Epoch 9/10\n",
      "13/13 [==============================] - 0s 10ms/step - loss: 596.4409 - mae: 22.6119\n",
      "Epoch 10/10\n",
      "13/13 [==============================] - 0s 8ms/step - loss: 596.4409 - mae: 22.6119\n"
     ]
    },
    {
     "data": {
      "text/plain": [
       "<keras.src.callbacks.History at 0x7f5c91f891e0>"
      ]
     },
     "execution_count": 6,
     "metadata": {},
     "output_type": "execute_result"
    }
   ],
   "source": [
    "model.fit(X_train, y_train, epochs=10)"
   ]
  },
  {
   "cell_type": "code",
   "execution_count": 7,
   "metadata": {
    "colab": {
     "base_uri": "https://localhost:8080/"
    },
    "id": "PjhuP5k4eoN-",
    "outputId": "e86c6f1d-73ee-472e-dfca-807091f2446f"
   },
   "outputs": [
    {
     "data": {
      "text/plain": [
       "array([[0.00395381, 0.        , 0.21041056, ..., 0.98688789, 0.22638298,\n",
       "        0.48222222],\n",
       "       [0.00171339, 0.        , 0.37939883, ..., 0.94966968, 0.23120567,\n",
       "        0.37111111],\n",
       "       [0.00120232, 0.3       , 0.1638563 , ..., 0.98575319, 0.27375887,\n",
       "        0.37777778],\n",
       "       ...,\n",
       "       [0.00162594, 0.        , 0.35007331, ..., 0.99397347, 0.24312057,\n",
       "        0.31555556],\n",
       "       [0.0025059 , 0.        , 0.23643695, ..., 0.98951031, 0.48425532,\n",
       "        0.25777778],\n",
       "       [0.00149286, 0.        , 0.13159824, ..., 1.        , 0.36765957,\n",
       "        0.40222222]])"
      ]
     },
     "execution_count": 7,
     "metadata": {},
     "output_type": "execute_result"
    }
   ],
   "source": [
    "from sklearn.preprocessing import MinMaxScaler\n",
    "from sklearn.preprocessing import StandardScaler\n",
    "\n",
    "scaler = MinMaxScaler()  # Масштабирование в диапазон 0-1\n",
    "\n",
    "X_train = scaler.fit_transform(X_train)\n",
    "X_test = scaler.transform(X_test)\n",
    "# Сохранение модели scaler\n",
    "import pickle\n",
    "\n",
    "with open(\"scaler.pkl\", \"wb\") as f:\n",
    "    pickle.dump(scaler, f)\n",
    "X_train"
   ]
  },
  {
   "cell_type": "code",
   "execution_count": 8,
   "metadata": {
    "colab": {
     "base_uri": "https://localhost:8080/"
    },
    "id": "t_hHfV2dexkA",
    "outputId": "f37fc04d-69d8-4f83-cede-44279250c09d"
   },
   "outputs": [
    {
     "name": "stdout",
     "output_type": "stream",
     "text": [
      "Epoch 1/30\n",
      "13/13 [==============================] - 1s 21ms/step - loss: 646.6202 - mae: 22.5114 - val_loss: 403.2310 - val_mae: 17.9604\n",
      "Epoch 2/30\n",
      "13/13 [==============================] - 0s 6ms/step - loss: 219.1569 - mae: 11.8431 - val_loss: 72.9107 - val_mae: 6.3875\n",
      "Epoch 3/30\n",
      "13/13 [==============================] - 0s 5ms/step - loss: 110.4910 - mae: 7.7346 - val_loss: 82.9833 - val_mae: 5.6435\n",
      "Epoch 4/30\n",
      "13/13 [==============================] - 0s 4ms/step - loss: 57.2148 - mae: 5.6348 - val_loss: 52.2994 - val_mae: 5.4362\n",
      "Epoch 5/30\n",
      "13/13 [==============================] - 0s 5ms/step - loss: 42.0529 - mae: 5.0060 - val_loss: 55.1669 - val_mae: 4.7748\n",
      "Epoch 6/30\n",
      "13/13 [==============================] - 0s 5ms/step - loss: 21.9541 - mae: 3.5601 - val_loss: 17.7715 - val_mae: 3.0284\n",
      "Epoch 7/30\n",
      "13/13 [==============================] - 0s 4ms/step - loss: 18.8023 - mae: 3.1094 - val_loss: 30.5208 - val_mae: 3.9093\n",
      "Epoch 8/30\n",
      "13/13 [==============================] - 0s 6ms/step - loss: 20.7746 - mae: 3.2839 - val_loss: 13.7164 - val_mae: 2.4690\n",
      "Epoch 9/30\n",
      "13/13 [==============================] - 0s 5ms/step - loss: 18.0456 - mae: 3.2775 - val_loss: 16.4410 - val_mae: 2.7627\n",
      "Epoch 10/30\n",
      "13/13 [==============================] - 0s 4ms/step - loss: 14.5860 - mae: 2.9186 - val_loss: 14.8273 - val_mae: 3.1394\n",
      "Epoch 11/30\n",
      "13/13 [==============================] - 0s 5ms/step - loss: 8.3714 - mae: 2.3000 - val_loss: 12.7604 - val_mae: 2.6229\n",
      "Epoch 12/30\n",
      "13/13 [==============================] - 0s 4ms/step - loss: 16.5817 - mae: 3.1568 - val_loss: 16.3674 - val_mae: 3.3219\n",
      "Epoch 13/30\n",
      "13/13 [==============================] - 0s 5ms/step - loss: 14.2454 - mae: 2.9150 - val_loss: 7.9772 - val_mae: 2.1318\n",
      "Epoch 14/30\n",
      "13/13 [==============================] - 0s 6ms/step - loss: 7.7837 - mae: 2.1702 - val_loss: 53.4650 - val_mae: 6.4600\n",
      "Epoch 15/30\n",
      "13/13 [==============================] - 0s 6ms/step - loss: 56.0303 - mae: 5.4574 - val_loss: 59.8537 - val_mae: 7.2323\n",
      "Epoch 16/30\n",
      "13/13 [==============================] - 0s 5ms/step - loss: 15.4991 - mae: 2.8950 - val_loss: 24.0317 - val_mae: 4.3140\n",
      "Epoch 17/30\n",
      "13/13 [==============================] - 0s 6ms/step - loss: 21.3227 - mae: 3.6235 - val_loss: 13.7469 - val_mae: 3.1570\n",
      "Epoch 18/30\n",
      "13/13 [==============================] - 0s 6ms/step - loss: 6.8898 - mae: 2.1228 - val_loss: 8.3564 - val_mae: 2.0358\n",
      "Epoch 19/30\n",
      "13/13 [==============================] - 0s 7ms/step - loss: 5.1738 - mae: 1.7488 - val_loss: 8.3876 - val_mae: 2.1080\n",
      "Epoch 20/30\n",
      "13/13 [==============================] - 0s 5ms/step - loss: 4.4755 - mae: 1.5769 - val_loss: 6.2884 - val_mae: 1.8609\n",
      "Epoch 21/30\n",
      "13/13 [==============================] - 0s 6ms/step - loss: 4.3559 - mae: 1.6038 - val_loss: 6.3185 - val_mae: 1.8037\n",
      "Epoch 22/30\n",
      "13/13 [==============================] - 0s 5ms/step - loss: 6.9833 - mae: 2.0195 - val_loss: 21.2934 - val_mae: 3.5902\n",
      "Epoch 23/30\n",
      "13/13 [==============================] - 0s 5ms/step - loss: 9.6020 - mae: 2.2924 - val_loss: 5.8781 - val_mae: 1.9152\n",
      "Epoch 24/30\n",
      "13/13 [==============================] - 0s 5ms/step - loss: 6.4322 - mae: 1.8844 - val_loss: 6.6806 - val_mae: 2.0850\n",
      "Epoch 25/30\n",
      "13/13 [==============================] - 0s 5ms/step - loss: 12.1655 - mae: 2.5854 - val_loss: 5.1386 - val_mae: 1.7235\n",
      "Epoch 26/30\n",
      "13/13 [==============================] - 0s 6ms/step - loss: 4.0418 - mae: 1.5753 - val_loss: 8.1990 - val_mae: 2.1768\n",
      "Epoch 27/30\n",
      "13/13 [==============================] - 0s 5ms/step - loss: 5.0393 - mae: 1.7837 - val_loss: 10.5046 - val_mae: 2.7952\n",
      "Epoch 28/30\n",
      "13/13 [==============================] - 0s 6ms/step - loss: 6.9777 - mae: 1.9962 - val_loss: 9.0796 - val_mae: 2.3868\n",
      "Epoch 29/30\n",
      "13/13 [==============================] - 0s 4ms/step - loss: 7.6489 - mae: 2.1178 - val_loss: 6.9534 - val_mae: 2.1285\n",
      "Epoch 30/30\n",
      "13/13 [==============================] - 0s 5ms/step - loss: 4.0998 - mae: 1.6162 - val_loss: 7.1557 - val_mae: 2.1566\n"
     ]
    }
   ],
   "source": [
    "model = Sequential([\n",
    "    Dense(28, input_shape=(14,), activation='relu'),\n",
    "    Dense(14, activation='relu'),\n",
    "    Dense(1, activation='relu')\n",
    "])\n",
    "\n",
    "model.compile(optimizer='sgd', loss='mse', metrics='mae')\n",
    "\n",
    "history = model.fit(X_train, y_train, epochs=30, validation_data=(X_test, y_test))"
   ]
  },
  {
   "cell_type": "markdown",
   "metadata": {
    "id": "mvlGXR3yVMYo"
   },
   "source": [
    "#### 1.6. Делаем предсказания на тестовых данных"
   ]
  },
  {
   "cell_type": "code",
   "execution_count": 9,
   "metadata": {
    "colab": {
     "base_uri": "https://localhost:8080/"
    },
    "id": "Rui6kjT01jEA",
    "outputId": "bc85cdfb-a279-4d3a-d1cc-5b8de8d8b117"
   },
   "outputs": [
    {
     "name": "stdout",
     "output_type": "stream",
     "text": [
      "4/4 [==============================] - 0s 4ms/step\n"
     ]
    }
   ],
   "source": [
    "# Ваш код\n",
    "preds = model.predict(X_test)"
   ]
  },
  {
   "cell_type": "markdown",
   "metadata": {
    "id": "NLsmmLVkVhkL"
   },
   "source": [
    "#### 1.7. Вычисляем метрику качества на тестовых данных"
   ]
  },
  {
   "cell_type": "code",
   "execution_count": 15,
   "metadata": {
    "colab": {
     "base_uri": "https://localhost:8080/"
    },
    "id": "V8cpkQnr1jcS",
    "outputId": "370a3c2e-a330-4032-df8a-14f022829872"
   },
   "outputs": [
    {
     "data": {
      "text/plain": [
       "2.156560514487472"
      ]
     },
     "execution_count": 15,
     "metadata": {},
     "output_type": "execute_result"
    }
   ],
   "source": [
    "# Ваш код\n",
    "from sklearn.metrics import mean_absolute_error\n",
    "\n",
    "mean_absolute_error(preds, y_test)"
   ]
  },
  {
   "cell_type": "markdown",
   "metadata": {
    "id": "d4eyitaoKx_E"
   },
   "source": [
    "#### 1.8. Строим график обучения"
   ]
  },
  {
   "cell_type": "code",
   "execution_count": 11,
   "metadata": {
    "colab": {
     "base_uri": "https://localhost:8080/",
     "height": 430
    },
    "id": "tw-JEpqm1jyK",
    "outputId": "8e6d14db-186e-4303-ebc3-3cb9ba7b77d0"
   },
   "outputs": [
    {
     "data": {
      "image/png": "[encoded data removed]",
      "text/plain": [
       "<Figure size 640x480 with 1 Axes>"
      ]
     },
     "metadata": {},
     "output_type": "display_data"
    }
   ],
   "source": [
    "# Ваш код\n",
    "import matplotlib.pyplot as plt\n",
    "plt.plot(history.history['loss'], label='Train loss')\n",
    "plt.plot(history.history['val_loss'], label='Val loss')\n",
    "plt.legend()\n",
    "plt.show()"
   ]
  },
  {
   "cell_type": "markdown",
   "metadata": {
    "id": "XYMsbjaoMEqT"
   },
   "source": [
    "#### 1.9. Построение графического интерфейса в Gradio Проверка обученной модели пользовательскими данными"
   ]
  },
  {
   "cell_type": "code",
   "execution_count": 12,
   "metadata": {
    "colab": {
     "base_uri": "https://localhost:8080/"
    },
    "id": "x-dyoItx2JN_",
    "outputId": "b81a6525-087b-43f5-f0b3-fa08c7fd9a0f"
   },
   "outputs": [
    {
     "name": "stdout",
     "output_type": "stream",
     "text": [
      "Collecting gradio\n",
      "  Downloading gradio-4.22.0-py3-none-any.whl (17.1 MB)\n",
      "\u001b[2K     \u001b[90m━━━━━━━━━━━━━━━━━━━━━━━━━━━━━━━━━━━━━━━━\u001b[0m \u001b[32m17.1/17.1 MB\u001b[0m \u001b[31m42.5 MB/s\u001b[0m eta \u001b[36m0:00:00\u001b[0m\n",
      "\u001b[?25hCollecting aiofiles<24.0,>=22.0 (from gradio)\n",
      "  Downloading aiofiles-23.2.1-py3-none-any.whl (15 kB)\n",
      "Requirement already satisfied: altair<6.0,>=4.2.0 in /usr/local/lib/python3.10/dist-packages (from gradio) (4.2.2)\n",
      "Collecting fastapi (from gradio)\n",
      "  Downloading fastapi-0.110.0-py3-none-any.whl (92 kB)\n",
      "\u001b[2K     \u001b[90m━━━━━━━━━━━━━━━━━━━━━━━━━━━━━━━━━━━━━━━━\u001b[0m \u001b[32m92.1/92.1 kB\u001b[0m \u001b[31m11.1 MB/s\u001b[0m eta \u001b[36m0:00:00\u001b[0m\n",
      "\u001b[?25hCollecting ffmpy (from gradio)\n",
      "  Downloading ffmpy-0.3.2.tar.gz (5.5 kB)\n",
      "  Preparing metadata (setup.py) ... \u001b[?25l\u001b[?25hdone\n",
      "Collecting gradio-client==0.13.0 (from gradio)\n",
      "  Downloading gradio_client-0.13.0-py3-none-any.whl (311 kB)\n",
      "\u001b[2K     \u001b[90m━━━━━━━━━━━━━━━━━━━━━━━━━━━━━━━━━━━━━━━━\u001b[0m \u001b[32m311.2/311.2 kB\u001b[0m \u001b[31m29.6 MB/s\u001b[0m eta \u001b[36m0:00:00\u001b[0m\n",
      "\u001b[?25hCollecting httpx>=0.24.1 (from gradio)\n",
      "  Downloading httpx-0.27.0-py3-none-any.whl (75 kB)\n",
      "\u001b[2K     \u001b[90m━━━━━━━━━━━━━━━━━━━━━━━━━━━━━━━━━━━━━━━━\u001b[0m \u001b[32m75.6/75.6 kB\u001b[0m \u001b[31m8.9 MB/s\u001b[0m eta \u001b[36m0:00:00\u001b[0m\n",
      "\u001b[?25hRequirement already satisfied: huggingface-hub>=0.19.3 in /usr/local/lib/python3.10/dist-packages (from gradio) (0.20.3)\n",
      "Requirement already satisfied: importlib-resources<7.0,>=1.3 in /usr/local/lib/python3.10/dist-packages (from gradio) (6.3.2)\n",
      "Requirement already satisfied: jinja2<4.0 in /usr/local/lib/python3.10/dist-packages (from gradio) (3.1.3)\n",
      "Requirement already satisfied: markupsafe~=2.0 in /usr/local/lib/python3.10/dist-packages (from gradio) (2.1.5)\n",
      "Requirement already satisfied: matplotlib~=3.0 in /usr/local/lib/python3.10/dist-packages (from gradio) (3.7.1)\n",
      "Requirement already satisfied: numpy~=1.0 in /usr/local/lib/python3.10/dist-packages (from gradio) (1.25.2)\n",
      "Collecting orjson~=3.0 (from gradio)\n",
      "  Downloading orjson-3.9.15-cp310-cp310-manylinux_2_17_x86_64.manylinux2014_x86_64.whl (138 kB)\n",
      "\u001b[2K     \u001b[90m━━━━━━━━━━━━━━━━━━━━━━━━━━━━━━━━━━━━━━━━\u001b[0m \u001b[32m138.5/138.5 kB\u001b[0m \u001b[31m16.0 MB/s\u001b[0m eta \u001b[36m0:00:00\u001b[0m\n",
      "\u001b[?25hRequirement already satisfied: packaging in /usr/local/lib/python3.10/dist-packages (from gradio) (24.0)\n",
      "Requirement already satisfied: pandas<3.0,>=1.0 in /usr/local/lib/python3.10/dist-packages (from gradio) (1.5.3)\n",
      "Requirement already satisfied: pillow<11.0,>=8.0 in /usr/local/lib/python3.10/dist-packages (from gradio) (9.4.0)\n",
      "Requirement already satisfied: pydantic>=2.0 in /usr/local/lib/python3.10/dist-packages (from gradio) (2.6.4)\n",
      "Collecting pydub (from gradio)\n",
      "  Downloading pydub-0.25.1-py2.py3-none-any.whl (32 kB)\n",
      "Collecting python-multipart>=0.0.9 (from gradio)\n",
      "  Downloading python_multipart-0.0.9-py3-none-any.whl (22 kB)\n",
      "Requirement already satisfied: pyyaml<7.0,>=5.0 in /usr/local/lib/python3.10/dist-packages (from gradio) (6.0.1)\n",
      "Collecting ruff>=0.2.2 (from gradio)\n",
      "  Downloading ruff-0.3.4-py3-none-manylinux_2_17_x86_64.manylinux2014_x86_64.whl (8.7 MB)\n",
      "\u001b[2K     \u001b[90m━━━━━━━━━━━━━━━━━━━━━━━━━━━━━━━━━━━━━━━━\u001b[0m \u001b[32m8.7/8.7 MB\u001b[0m \u001b[31m48.4 MB/s\u001b[0m eta \u001b[36m0:00:00\u001b[0m\n",
      "\u001b[?25hCollecting semantic-version~=2.0 (from gradio)\n",
      "  Downloading semantic_version-2.10.0-py2.py3-none-any.whl (15 kB)\n",
      "Collecting tomlkit==0.12.0 (from gradio)\n",
      "  Downloading tomlkit-0.12.0-py3-none-any.whl (37 kB)\n",
      "Requirement already satisfied: typer[all]<1.0,>=0.9 in /usr/local/lib/python3.10/dist-packages (from gradio) (0.9.0)\n",
      "Requirement already satisfied: typing-extensions~=4.0 in /usr/local/lib/python3.10/dist-packages (from gradio) (4.10.0)\n",
      "Collecting uvicorn>=0.14.0 (from gradio)\n",
      "  Downloading uvicorn-0.29.0-py3-none-any.whl (60 kB)\n",
      "\u001b[2K     \u001b[90m━━━━━━━━━━━━━━━━━━━━━━━━━━━━━━━━━━━━━━━━\u001b[0m \u001b[32m60.8/60.8 kB\u001b[0m \u001b[31m6.3 MB/s\u001b[0m eta \u001b[36m0:00:00\u001b[0m\n",
      "\u001b[?25hRequirement already satisfied: fsspec in /usr/local/lib/python3.10/dist-packages (from gradio-client==0.13.0->gradio) (2023.6.0)\n",
      "Collecting websockets<12.0,>=10.0 (from gradio-client==0.13.0->gradio)\n",
      "  Downloading websockets-11.0.3-cp310-cp310-manylinux_2_5_x86_64.manylinux1_x86_64.manylinux_2_17_x86_64.manylinux2014_x86_64.whl (129 kB)\n",
      "\u001b[2K     \u001b[90m━━━━━━━━━━━━━━━━━━━━━━━━━━━━━━━━━━━━━━━━\u001b[0m \u001b[32m129.9/129.9 kB\u001b[0m \u001b[31m15.9 MB/s\u001b[0m eta \u001b[36m0:00:00\u001b[0m\n",
      "\u001b[?25hRequirement already satisfied: entrypoints in /usr/local/lib/python3.10/dist-packages (from altair<6.0,>=4.2.0->gradio) (0.4)\n",
      "Requirement already satisfied: jsonschema>=3.0 in /usr/local/lib/python3.10/dist-packages (from altair<6.0,>=4.2.0->gradio) (4.19.2)\n",
      "Requirement already satisfied: toolz in /usr/local/lib/python3.10/dist-packages (from altair<6.0,>=4.2.0->gradio) (0.12.1)\n",
      "Requirement already satisfied: anyio in /usr/local/lib/python3.10/dist-packages (from httpx>=0.24.1->gradio) (3.7.1)\n",
      "Requirement already satisfied: certifi in /usr/local/lib/python3.10/dist-packages (from httpx>=0.24.1->gradio) (2024.2.2)\n",
      "Collecting httpcore==1.* (from httpx>=0.24.1->gradio)\n",
      "  Downloading httpcore-1.0.4-py3-none-any.whl (77 kB)\n",
      "\u001b[2K     \u001b[90m━━━━━━━━━━━━━━━━━━━━━━━━━━━━━━━━━━━━━━━━\u001b[0m \u001b[32m77.8/77.8 kB\u001b[0m \u001b[31m8.7 MB/s\u001b[0m eta \u001b[36m0:00:00\u001b[0m\n",
      "\u001b[?25hRequirement already satisfied: idna in /usr/local/lib/python3.10/dist-packages (from httpx>=0.24.1->gradio) (3.6)\n",
      "Requirement already satisfied: sniffio in /usr/local/lib/python3.10/dist-packages (from httpx>=0.24.1->gradio) (1.3.1)\n",
      "Collecting h11<0.15,>=0.13 (from httpcore==1.*->httpx>=0.24.1->gradio)\n",
      "  Downloading h11-0.14.0-py3-none-any.whl (58 kB)\n",
      "\u001b[2K     \u001b[90m━━━━━━━━━━━━━━━━━━━━━━━━━━━━━━━━━━━━━━━━\u001b[0m \u001b[32m58.3/58.3 kB\u001b[0m \u001b[31m6.3 MB/s\u001b[0m eta \u001b[36m0:00:00\u001b[0m\n",
      "\u001b[?25hRequirement already satisfied: filelock in /usr/local/lib/python3.10/dist-packages (from huggingface-hub>=0.19.3->gradio) (3.13.1)\n",
      "Requirement already satisfied: requests in /usr/local/lib/python3.10/dist-packages (from huggingface-hub>=0.19.3->gradio) (2.31.0)\n",
      "Requirement already satisfied: tqdm>=4.42.1 in /usr/local/lib/python3.10/dist-packages (from huggingface-hub>=0.19.3->gradio) (4.66.2)\n",
      "Requirement already satisfied: contourpy>=1.0.1 in /usr/local/lib/python3.10/dist-packages (from matplotlib~=3.0->gradio) (1.2.0)\n",
      "Requirement already satisfied: cycler>=0.10 in /usr/local/lib/python3.10/dist-packages (from matplotlib~=3.0->gradio) (0.12.1)\n",
      "Requirement already satisfied: fonttools>=4.22.0 in /usr/local/lib/python3.10/dist-packages (from matplotlib~=3.0->gradio) (4.50.0)\n",
      "Requirement already satisfied: kiwisolver>=1.0.1 in /usr/local/lib/python3.10/dist-packages (from matplotlib~=3.0->gradio) (1.4.5)\n",
      "Requirement already satisfied: pyparsing>=2.3.1 in /usr/local/lib/python3.10/dist-packages (from matplotlib~=3.0->gradio) (3.1.2)\n",
      "Requirement already satisfied: python-dateutil>=2.7 in /usr/local/lib/python3.10/dist-packages (from matplotlib~=3.0->gradio) (2.8.2)\n",
      "Requirement already satisfied: pytz>=2020.1 in /usr/local/lib/python3.10/dist-packages (from pandas<3.0,>=1.0->gradio) (2023.4)\n",
      "Requirement already satisfied: annotated-types>=0.4.0 in /usr/local/lib/python3.10/dist-packages (from pydantic>=2.0->gradio) (0.6.0)\n",
      "Requirement already satisfied: pydantic-core==2.16.3 in /usr/local/lib/python3.10/dist-packages (from pydantic>=2.0->gradio) (2.16.3)\n",
      "Requirement already satisfied: click<9.0.0,>=7.1.1 in /usr/local/lib/python3.10/dist-packages (from typer[all]<1.0,>=0.9->gradio) (8.1.7)\n",
      "Collecting colorama<0.5.0,>=0.4.3 (from typer[all]<1.0,>=0.9->gradio)\n",
      "  Downloading colorama-0.4.6-py2.py3-none-any.whl (25 kB)\n",
      "Collecting shellingham<2.0.0,>=1.3.0 (from typer[all]<1.0,>=0.9->gradio)\n",
      "  Downloading shellingham-1.5.4-py2.py3-none-any.whl (9.8 kB)\n",
      "Requirement already satisfied: rich<14.0.0,>=10.11.0 in /usr/local/lib/python3.10/dist-packages (from typer[all]<1.0,>=0.9->gradio) (13.7.1)\n",
      "Collecting starlette<0.37.0,>=0.36.3 (from fastapi->gradio)\n",
      "  Downloading starlette-0.36.3-py3-none-any.whl (71 kB)\n",
      "\u001b[2K     \u001b[90m━━━━━━━━━━━━━━━━━━━━━━━━━━━━━━━━━━━━━━━━\u001b[0m \u001b[32m71.5/71.5 kB\u001b[0m \u001b[31m9.5 MB/s\u001b[0m eta \u001b[36m0:00:00\u001b[0m\n",
      "\u001b[?25hRequirement already satisfied: attrs>=22.2.0 in /usr/local/lib/python3.10/dist-packages (from jsonschema>=3.0->altair<6.0,>=4.2.0->gradio) (23.2.0)\n",
      "Requirement already satisfied: jsonschema-specifications>=2023.03.6 in /usr/local/lib/python3.10/dist-packages (from jsonschema>=3.0->altair<6.0,>=4.2.0->gradio) (2023.12.1)\n",
      "Requirement already satisfied: referencing>=0.28.4 in /usr/local/lib/python3.10/dist-packages (from jsonschema>=3.0->altair<6.0,>=4.2.0->gradio) (0.34.0)\n",
      "Requirement already satisfied: rpds-py>=0.7.1 in /usr/local/lib/python3.10/dist-packages (from jsonschema>=3.0->altair<6.0,>=4.2.0->gradio) (0.18.0)\n",
      "Requirement already satisfied: six>=1.5 in /usr/local/lib/python3.10/dist-packages (from python-dateutil>=2.7->matplotlib~=3.0->gradio) (1.16.0)\n",
      "Requirement already satisfied: markdown-it-py>=2.2.0 in /usr/local/lib/python3.10/dist-packages (from rich<14.0.0,>=10.11.0->typer[all]<1.0,>=0.9->gradio) (3.0.0)\n",
      "Requirement already satisfied: pygments<3.0.0,>=2.13.0 in /usr/local/lib/python3.10/dist-packages (from rich<14.0.0,>=10.11.0->typer[all]<1.0,>=0.9->gradio) (2.16.1)\n",
      "Requirement already satisfied: exceptiongroup in /usr/local/lib/python3.10/dist-packages (from anyio->httpx>=0.24.1->gradio) (1.2.0)\n",
      "Requirement already satisfied: charset-normalizer<4,>=2 in /usr/local/lib/python3.10/dist-packages (from requests->huggingface-hub>=0.19.3->gradio) (3.3.2)\n",
      "Requirement already satisfied: urllib3<3,>=1.21.1 in /usr/local/lib/python3.10/dist-packages (from requests->huggingface-hub>=0.19.3->gradio) (2.0.7)\n",
      "Requirement already satisfied: mdurl~=0.1 in /usr/local/lib/python3.10/dist-packages (from markdown-it-py>=2.2.0->rich<14.0.0,>=10.11.0->typer[all]<1.0,>=0.9->gradio) (0.1.2)\n",
      "Building wheels for collected packages: ffmpy\n",
      "  Building wheel for ffmpy (setup.py) ... \u001b[?25l\u001b[?25hdone\n",
      "  Created wheel for ffmpy: filename=ffmpy-0.3.2-py3-none-any.whl size=5584 sha256=fac5e5e68b12a1c3f491e256ba8dc129405eaa283b0077094c34e9e1b4361f14\n",
      "  Stored in directory: /root/.cache/pip/wheels/bd/65/9a/671fc6dcde07d4418df0c592f8df512b26d7a0029c2a23dd81\n",
      "Successfully built ffmpy\n",
      "Installing collected packages: pydub, ffmpy, websockets, tomlkit, shellingham, semantic-version, ruff, python-multipart, orjson, h11, colorama, aiofiles, uvicorn, starlette, httpcore, httpx, fastapi, gradio-client, gradio\n",
      "Successfully installed aiofiles-23.2.1 colorama-0.4.6 fastapi-0.110.0 ffmpy-0.3.2 gradio-4.22.0 gradio-client-0.13.0 h11-0.14.0 httpcore-1.0.4 httpx-0.27.0 orjson-3.9.15 pydub-0.25.1 python-multipart-0.0.9 ruff-0.3.4 semantic-version-2.10.0 shellingham-1.5.4 starlette-0.36.3 tomlkit-0.12.0 uvicorn-0.29.0 websockets-11.0.3\n"
     ]
    }
   ],
   "source": [
    "# Ваш код\n",
    "!pip install gradio"
   ]
  },
  {
   "cell_type": "markdown",
   "metadata": {
    "id": "8UQpi9te2D4J"
   },
   "source": [
    "#### 2. Проверка обученной модели пользовательскими данными"
   ]
  },
  {
   "cell_type": "code",
   "execution_count": 35,
   "metadata": {
    "id": "9aohXWhb2Jjh"
   },
   "outputs": [],
   "source": [
    "def preprocess_input(features, scale_model=\"scaler.pkl\"):\n",
    "# Функция преобразует входные данные в формат, подходящий для модели машинного обучения.\n",
    "# Args: features: Список или массив с входными признаками.\n",
    "# scale_model: Путь к файлу с сохраненной моделью масштабирования.\n",
    "# Returns: Преобразованный массив признаков.\n",
    "  try:\n",
    "    # Преобразование в NumPy массив\n",
    "    features = np.array(features)\n",
    "\n",
    "    # Проверка на пустой массив\n",
    "    if not features.size:\n",
    "      raise ValueError(\"Пустой массив признаков!\")\n",
    "\n",
    "    # Изменение размерности массива (8,) -> (1, 8)\n",
    "    features = features.reshape(1, -1)\n",
    "\n",
    "    # Загрузка модели масштабирования\n",
    "    with open(scale_model, \"rb\") as f:\n",
    "      scaler = pickle.load(f)\n",
    "\n",
    "    # Масштабирование признаков\n",
    "    features = scaler.transform(features)\n",
    "\n",
    "  except Exception as e:\n",
    "    raise ValueError(f\"Ошибка при предобработке: {e}\")\n",
    "\n",
    "  return features"
   ]
  },
  {
   "cell_type": "code",
   "execution_count": 36,
   "metadata": {
    "id": "6u4D2Hf_iUCM"
   },
   "outputs": [],
   "source": [
    "def predict_price(*features):\n",
    "\n",
    "  \"\"\"\n",
    "  Функция прогнозирует цену на основе предобработанных\n",
    "  входных признаков.\n",
    "\n",
    "  Args:\n",
    "      features: Список или массив с входными признаками.\n",
    "\n",
    "  Returns:\n",
    "      Прогнозируемая цена (в долларах).\n",
    "  \"\"\"\n",
    "\n",
    "  try:\n",
    "    # Предобработка входных признаков\n",
    "    features = preprocess_input(features)\n",
    "\n",
    "    # Прогнозирование цены\n",
    "    prediction = model.predict(features, verbose=0)\n",
    "\n",
    "    # Проверка на ошибки прогнозирования\n",
    "    if np.isnan(prediction).any():\n",
    "      raise ValueError(\"Ошибка при прогнозировании: NaN\")\n",
    "\n",
    "  except Exception as e:\n",
    "    raise ValueError(f\"Ошибка при прогнозировании: {e}\")\n",
    "\n",
    "  # Возвращение прогнозируемой цены\n",
    "  # (умножение на 1000 для отображения в тысячах долларов)\n",
    "  return f\"{prediction[0][0] * 1000}\""
   ]
  },
  {
   "cell_type": "code",
   "execution_count": 37,
   "metadata": {
    "colab": {
     "base_uri": "https://localhost:8080/",
     "height": 591
    },
    "id": "wPUG5Xa7inJ1",
    "outputId": "263819ee-f371-4bc2-9791-71e9b35396f2"
   },
   "outputs": [
    {
     "name": "stdout",
     "output_type": "stream",
     "text": [
      "Colab notebook detected. To show errors in colab notebook, set debug=True in launch()\n",
      "Running on public URL: https://1bcd9b2e7d82d4efd2.gradio.live\n",
      "\n",
      "This share link expires in 72 hours. For free permanent hosting and GPU upgrades, run `gradio deploy` from Terminal to deploy to Spaces (https://huggingface.co/spaces)\n"
     ]
    },
    {
     "data": {
      "text/html": [
       "<div><iframe src=\"https://1bcd9b2e7d82d4efd2.gradio.live\" width=\"100%\" height=\"500\" allow=\"autoplay; camera; microphone; clipboard-read; clipboard-write;\" frameborder=\"0\" allowfullscreen></iframe></div>"
      ],
      "text/plain": [
       "<IPython.core.display.HTML object>"
      ]
     },
     "metadata": {},
     "output_type": "display_data"
    },
    {
     "data": {
      "text/plain": []
     },
     "execution_count": 37,
     "metadata": {},
     "output_type": "execute_result"
    }
   ],
   "source": [
    "import gradio as gr\n",
    "\n",
    "# Интерфейс Gradio\n",
    "interface = gr.Interface(\n",
    "    fn=predict_price,\n",
    "    inputs=[\n",
    "        gr.Slider(label=\"CRIM\", minimum=0, maximum=89, step=0.1, value=8.3252),\n",
    "        gr.Slider(label=\"ZN\", minimum=11.36, maximum=100, step=1, value=41.0),\n",
    "        gr.Slider(label=\"INDUS\", minimum=0.46, maximum=27.74, step=0.01, value=6.984127),\n",
    "        gr.Slider(label=\"CHAS\", minimum=0, maximum=1, step=0.01, value=0.2),\n",
    "        gr.Slider(label=\"NOX\", minimum=1, maximum=15000, step=1, value=322.0),\n",
    "        gr.Slider(label=\"RM\", minimum=0, maximum=1, step=0.1, value=2.555556),\n",
    "        gr.Slider(label=\"AGE\", minimum=2.9, maximum=100, step=0.1, value=37.88),\n",
    "        gr.Slider(label=\"DIS\", minimum=1.2, maximum=12.12, step=0.1, value=2),\n",
    "        gr.Slider(label=\"RAD\", minimum=1, maximum=24, step=0.1, value=12),\n",
    "        gr.Slider(label=\"TAX\", minimum=187, maximum=711, step=1, value=300),\n",
    "        gr.Slider(label=\"PTRATIO\", minimum=12.6, maximum=22, step=0.1, value=15),\n",
    "        gr.Slider(label=\"B\", minimum=0.32, maximum=396.9, step=0.1, value=130),\n",
    "        gr.Slider(label=\"LSTAT\", minimum=1.73, maximum=37.97, step=0.1, value=22),\n",
    "        gr.Slider(label=\"MEDV\", minimum=5, maximum=50, step=0.1, value=13),\n",
    "    ],\n",
    "    # Обновление при каждом изменении\n",
    "    live=True,\n",
    "    outputs=gr.Text(label=\"Predicted Price ($)\"),\n",
    ")\n",
    "\n",
    "# Запуск интерфейса\n",
    "interface.launch(debug=False, share=True)"
   ]
  },
  {
   "cell_type": "markdown",
   "metadata": {
    "id": "DQQMXC8garr3"
   },
   "source": [
    "## Задание №2.Обучение модели ИНС для решения задачи классификации\n",
    "\n"
   ]
  },
  {
   "cell_type": "markdown",
   "metadata": {
    "id": "1OAwSdaG36Ip"
   },
   "source": [
    "Порядок работы:"
   ]
  },
  {
   "cell_type": "markdown",
   "metadata": {
    "id": "q8COT3YubK-X"
   },
   "source": [
    "* 1. Собрать датасет из изображений, соответствующих не менее, чем 3 классам объектов (в\n",
    "примере с пары были кошки, собаки и панды).\n"
   ]
  },
  {
   "cell_type": "markdown",
   "metadata": {
    "id": "YstDH7J2bM5F"
   },
   "source": [
    "- 2. Для каждого класса должно быть собрано не менее 1000 изображений. Количество\n",
    "изображений для каждого класса должно быть одинаковым.\n",
    "Готовые датасеты можно скачать отсюда: https://www.kaggle.com/\n"
   ]
  },
  {
   "cell_type": "markdown",
   "metadata": {
    "id": "9aTvc3A4bN_h"
   },
   "source": [
    "- 3. Обучить модель глубокой нейронной сети для решения задачи классификации\n",
    "изображений, по выбранным Вами классам. (В качестве примера приведён код с пары)\n",
    "В конечном итоге Вы должны сохранить обученную модель для классификации\n",
    "изображений, соответствующих тем классам, которые Вы выбрали, а затем воспользоваться этой моделью для предсказания классов на пользовательских изображениях.\n",
    "\n"
   ]
  },
  {
   "cell_type": "markdown",
   "metadata": {
    "id": "yKU34aHabUfp"
   },
   "source": [
    "> При выполнении заданий пробуйте использовать разные функции потерь,\n",
    "методы оптимизации, функции активации и метрики ошибок."
   ]
  },
  {
   "cell_type": "markdown",
   "metadata": {
    "id": "l8zEG_g8O-Ge"
   },
   "source": [
    "### 1. Устанавливаем зависимости:"
   ]
  },
  {
   "cell_type": "code",
   "execution_count": 38,
   "metadata": {
    "id": "sh6kN7IMO8de"
   },
   "outputs": [],
   "source": [
    "# Импортируем LabelBinarizer для преобразования текстовых меток в векторы\n",
    "# (например, \"кошка\" -> [1, 0, 0], \"собака\" -> [0, 1, 0], \"панда\" -> [0, 0, 1])\n",
    "from sklearn.preprocessing import LabelBinarizer\n",
    "\n",
    "# Импортируем train_test_split для разделения данных на обучающую и тестовую выборки\n",
    "from sklearn.model_selection import train_test_split\n",
    "\n",
    "# Импортируем classification_report для оценки качества классификации\n",
    "from sklearn.metrics import classification_report\n",
    "\n",
    "# Импортируем Sequential для создания последовательной модели нейронной сети\n",
    "from keras.models import Sequential\n",
    "\n",
    "# Импортируем Dense для создания плотных слоев нейронной сети\n",
    "from keras.layers import Dense\n",
    "\n",
    "# Импортируем SGD и Adam для оптимизации обучения нейронной сети\n",
    "from keras.optimizers import SGD, Adam\n",
    "\n",
    "# Импортируем paths из imutils для удобной работы с путями к изображениям\n",
    "from imutils import paths\n",
    "\n",
    "# Импортируем pyplot из matplotlib для визуализации данных\n",
    "import matplotlib.pyplot as plt\n",
    "\n",
    "# Импортируем numpy для работы с массивами данных\n",
    "import numpy as np\n",
    "\n",
    "# Импортируем random для генерации случайных чисел\n",
    "import random\n",
    "\n",
    "# Импортируем pickle для сериализации и десериализации данных\n",
    "import pickle\n",
    "\n",
    "# Импортируем cv2 для работы с изображениями\n",
    "import cv2\n",
    "\n",
    "# Импортируем os для работы с файловой системой\n",
    "import os\n",
    "\n",
    "# Импортируем cv2_imshow из google.colab.patches для отображения изображений в Colab\n",
    "from google.colab.patches import cv2_imshow"
   ]
  },
  {
   "cell_type": "markdown",
   "metadata": {
    "id": "aJextk3pO8Ko"
   },
   "source": [
    "### 2. Загружаем набор данных:"
   ]
  },
  {
   "cell_type": "code",
   "execution_count": 39,
   "metadata": {
    "id": "ZQOhPesK2-J8"
   },
   "outputs": [],
   "source": [
    "# Ваш код\n",
    "# импортируем бэкенд Agg из matplotlib для сохранения графиков на диск\n",
    "import matplotlib\n",
    "matplotlib.use(\"Agg\")"
   ]
  },
  {
   "cell_type": "code",
   "execution_count": 40,
   "metadata": {
    "id": "hmxocWiumZjW"
   },
   "outputs": [],
   "source": [
    "# Подключаем необходимые модули и пакеты\n",
    "from sklearn.preprocessing import LabelBinarizer\n",
    "from sklearn.model_selection import train_test_split\n",
    "from sklearn.metrics import classification_report\n",
    "from keras.models import Sequential\n",
    "from keras.layers import Dense\n",
    "from keras.optimizers import SGD, Adam\n",
    "from imutils import paths\n",
    "import matplotlib.pyplot as plt\n",
    "import numpy as np\n",
    "import random\n",
    "import pickle\n",
    "import cv2\n",
    "from google.colab.patches import cv2_imshow\n",
    "import os"
   ]
  },
  {
   "cell_type": "code",
   "execution_count": 41,
   "metadata": {
    "id": "EJzizghamonc"
   },
   "outputs": [],
   "source": [
    "%%capture\n",
    "DATADIR = 'Dataset'\n",
    "if os.path.isdir(DATADIR)>0:\n",
    "    print ('Data directory already exists and it is not empty, miss downloading')\n",
    "else:\n",
    "    print ('Data directory does not exists or it is empty, download the dataset')\n",
    "    !gdown --id 1SaAEAxiqU4sSXsFEja1JRARpXCGQIkJN #Скопировать ID из ссылки в гугл диске\n",
    "    !unzip Dataset.zip"
   ]
  },
  {
   "cell_type": "code",
   "execution_count": 42,
   "metadata": {
    "colab": {
     "base_uri": "https://localhost:8080/"
    },
    "id": "__ez4GIbmzxj",
    "outputId": "ffc929d5-b936-4f25-ff96-6d6c7f1e980b"
   },
   "outputs": [
    {
     "name": "stdout",
     "output_type": "stream",
     "text": [
      "[INFO] loading images...\n"
     ]
    }
   ],
   "source": [
    "# инициализируем данные и метки\n",
    "print(\"[INFO] loading images...\")\n",
    "data = []\n",
    "labels = []"
   ]
  },
  {
   "cell_type": "code",
   "execution_count": 43,
   "metadata": {
    "colab": {
     "base_uri": "https://localhost:8080/"
    },
    "id": "jJhDGBFfnxYj",
    "outputId": "dca6aaea-e55d-49de-a7a7-cf16a8966a0e"
   },
   "outputs": [
    {
     "name": "stdout",
     "output_type": "stream",
     "text": [
      "Mounted at /content/drive\n"
     ]
    }
   ],
   "source": [
    "from google.colab import drive\n",
    "drive.mount('/content/drive')"
   ]
  },
  {
   "cell_type": "markdown",
   "metadata": {
    "id": "pX1km_kyV2Ka"
   },
   "source": [
    "### 3. Указываем путь к набору данных:"
   ]
  },
  {
   "cell_type": "code",
   "execution_count": 44,
   "metadata": {
    "colab": {
     "base_uri": "https://localhost:8080/"
    },
    "id": "hAqtXKu62-bU",
    "outputId": "2ea44fc5-aee3-4742-d974-52d1afc4f7e1"
   },
   "outputs": [
    {
     "name": "stdout",
     "output_type": "stream",
     "text": [
      "apple\n"
     ]
    }
   ],
   "source": [
    "# Ваш код\n",
    "# Собираем список путей к каждому изображению и перемешиваем их\n",
    "imagePaths = sorted(list(paths.list_images(\"/content/drive/MyDrive/content/vegetables\")))\n",
    "print(imagePaths[700].split(os.path.sep)[-2])\n",
    "random.shuffle(imagePaths)"
   ]
  },
  {
   "cell_type": "markdown",
   "metadata": {
    "id": "sAYZPzKSVobq"
   },
   "source": [
    "### 4. Загружаем набор данных и формируем общую выборку:"
   ]
  },
  {
   "cell_type": "code",
   "execution_count": 45,
   "metadata": {
    "id": "1dqs5r-92-x7"
   },
   "outputs": [],
   "source": [
    "# Ваш код\n",
    "# цикл по изображениям\n",
    "for imagePath in imagePaths:\n",
    "\n",
    "\timage = cv2.imread(imagePath) # загружаем изображение\n",
    "\timage = cv2.resize(image, (32, 32)).flatten() # меняем его разрешение на 32x32 пикселей (без учета соотношения сторон),\n",
    "\t\t\t\t\t\t\t\t\t\t\t\t\t\t\t\t\t\t\t\t\t\t\t\t# а затем \"выраниваем\" его в вектор, состоящий из (32*32*3) 3072 пикселей\n",
    "\tdata.append(image) # добавляем в список\n",
    "\n",
    "\tlabel = imagePath.split(os.path.sep)[-2] \t# извлекаем метку класса из пути к изображению (метка класса зависит от имени папки)\n",
    "\tlabels.append(label) # обновляем список меток"
   ]
  },
  {
   "cell_type": "markdown",
   "metadata": {
    "id": "yeiILoUSXn4c"
   },
   "source": [
    "#### 4.1. Нормализуем данные:"
   ]
  },
  {
   "cell_type": "markdown",
   "metadata": {
    "id": "PceSnJBEZDPm"
   },
   "source": [
    "Масштабируем интенсивности пикселей в диапазон [0, 1], а также преобразуем данные в массивы NumPy для повышения производительности\n"
   ]
  },
  {
   "cell_type": "code",
   "execution_count": 46,
   "metadata": {
    "id": "wejqgr9U2_hf"
   },
   "outputs": [],
   "source": [
    "# Ваш код\n",
    "# масштабируем интенсивности пикселей в диапазон [0, 1] (Нормализация данных)\n",
    "data = np.array(data, dtype=\"float\") / 255.0\n",
    "labels = np.array(labels)"
   ]
  },
  {
   "cell_type": "markdown",
   "metadata": {
    "id": "lREm4zIRaSsx"
   },
   "source": [
    "#### 4.2. Формируем обучающую и валидационную выборки:"
   ]
  },
  {
   "cell_type": "markdown",
   "metadata": {
    "id": "lwTSSQkPa9oI"
   },
   "source": [
    "Разделяем данные на обучающую и валидационную выборки, используя 75% данных для обучения и оставшиеся 25% для валидации"
   ]
  },
  {
   "cell_type": "code",
   "execution_count": 47,
   "metadata": {
    "id": "R23UTovQ3A7R"
   },
   "outputs": [],
   "source": [
    "# Ваш код\n",
    "# разбиваем данные на обучающую и тестовую выборки, используя 75%\n",
    "# данных для обучения и оставшиеся 25% для тестирования\n",
    "(trainX, testX, trainY, testY) = train_test_split(data,\n",
    "\tlabels, test_size=0.25, random_state=42)"
   ]
  },
  {
   "cell_type": "code",
   "execution_count": 48,
   "metadata": {
    "id": "u9UfTbeartaI"
   },
   "outputs": [],
   "source": [
    "# конвертируем метки из целых чисел в векторы (для 2х классов при\n",
    "# бинарной классификации вам следует использовать функцию Keras\n",
    "# \"to_categorical\" вместо \"LabelBinarizer\" из scikit-learn, которая не возвращает вектор)\n",
    "lb = LabelBinarizer()\n",
    "trainY = lb.fit_transform(trainY)\n",
    "testY = lb.transform(testY)"
   ]
  },
  {
   "cell_type": "markdown",
   "metadata": {
    "id": "Sz33nCuvc3Pk"
   },
   "source": [
    "### 5. Создание модели:"
   ]
  },
  {
   "cell_type": "markdown",
   "metadata": {
    "id": "r2mcOGxEc-uB"
   },
   "source": [
    "#### 5.1. Определим архитектуру модели с помощью Keras:"
   ]
  },
  {
   "cell_type": "code",
   "execution_count": 49,
   "metadata": {
    "id": "nj_bAWxv3B0B"
   },
   "outputs": [],
   "source": [
    "# Ваш код\n",
    "# определим архитектуру 3072-1024-512-3 с помощью Keras\n",
    "model = Sequential()\n",
    "model.add(Dense(1024, input_shape=(3072,), activation=\"relu\"))\n",
    "model.add(Dense(512, activation=\"relu\"))\n",
    "model.add(Dense(len(lb.classes_), activation=\"softmax\"))"
   ]
  },
  {
   "cell_type": "markdown",
   "metadata": {
    "id": "HHFTdcCkg1Wr"
   },
   "source": [
    "#### 5.2. Установим значение параметров скорости обучения и общего числа эпох\n"
   ]
  },
  {
   "cell_type": "code",
   "execution_count": 50,
   "metadata": {
    "id": "pzlpLmGm3CMU"
   },
   "outputs": [],
   "source": [
    "# инициализируем скорость обучения и общее число эпох\n",
    "INIT_LR = 0.01\n",
    "EPOCHS = 80"
   ]
  },
  {
   "cell_type": "markdown",
   "metadata": {
    "id": "YaDdd2wphXLv"
   },
   "source": [
    "#### 5.3. Компилируем модель:"
   ]
  },
  {
   "cell_type": "code",
   "execution_count": 51,
   "metadata": {
    "colab": {
     "base_uri": "https://localhost:8080/"
    },
    "id": "3mxDQXSc3Cc5",
    "outputId": "4074e55d-2eff-4e59-95a7-db930cd5c26a"
   },
   "outputs": [
    {
     "name": "stderr",
     "output_type": "stream",
     "text": [
      "WARNING:absl:`lr` is deprecated in Keras optimizer, please use `learning_rate` or use the legacy optimizer, e.g.,tf.keras.optimizers.legacy.SGD.\n"
     ]
    },
    {
     "name": "stdout",
     "output_type": "stream",
     "text": [
      "[INFO] training network...\n"
     ]
    }
   ],
   "source": [
    "# компилируем модель, используя SGD как оптимизатор и категориальную\n",
    "# кросс-энтропию в качестве функции потерь (для бинарной классификации\n",
    "# следует использовать binary_crossentropy)\n",
    "print(\"[INFO] training network...\")\n",
    "opt = SGD(lr=INIT_LR)\n",
    "model.compile(loss=\"categorical_crossentropy\", optimizer=opt,\n",
    "\tmetrics=[\"accuracy\"])"
   ]
  },
  {
   "cell_type": "markdown",
   "metadata": {
    "id": "EaJdxfw4hwjN"
   },
   "source": [
    "### 6. Обучение модели искусственной нейронной сети:"
   ]
  },
  {
   "cell_type": "markdown",
   "metadata": {
    "id": "KAzlK96zi0dy"
   },
   "source": [
    "#### 6.1. Добавим колбэки для сохранения лучшей модели по валидационной точности и остановки обучения, в случае, если модель перестала обучаться:"
   ]
  },
  {
   "cell_type": "code",
   "execution_count": 52,
   "metadata": {
    "id": "2d6HT9jU3C3E"
   },
   "outputs": [],
   "source": [
    "from keras.callbacks import EarlyStopping, ModelCheckpoint\n",
    "\n",
    "early_stopping = EarlyStopping(patience=5) # Остановка обучения, если\n",
    "                                             # валидационная точность не\n",
    "                                             # улучшается в течение 5 эпох\n",
    "checkpoint = ModelCheckpoint(filepath=\"best_model.h5\",\n",
    "                             monitor=\"val_accuracy\",\n",
    "                             save_best_only=True,\n",
    "                             verbose=0) # Сохранение модели\n",
    "                                         # только при улучшении\n",
    "                                         # валидационной точности"
   ]
  },
  {
   "cell_type": "markdown",
   "metadata": {
    "id": "IgakM035jDPi"
   },
   "source": [
    "#### 6.2. Запустим процесс обучения модели:"
   ]
  },
  {
   "cell_type": "code",
   "execution_count": 53,
   "metadata": {
    "colab": {
     "base_uri": "https://localhost:8080/"
    },
    "id": "YNloZiKH3DMV",
    "outputId": "2216341a-6405-4354-bd8b-c734926aaf96"
   },
   "outputs": [
    {
     "name": "stdout",
     "output_type": "stream",
     "text": [
      "Epoch 1/80\n",
      "25/25 [==============================] - 7s 184ms/step - loss: 0.6621 - accuracy: 0.7325 - val_loss: 0.3615 - val_accuracy: 0.8860\n"
     ]
    },
    {
     "name": "stderr",
     "output_type": "stream",
     "text": [
      "/usr/local/lib/python3.10/dist-packages/keras/src/engine/training.py:3103: UserWarning: You are saving your model as an HDF5 file via `model.save()`. This file format is considered legacy. We recommend using instead the native Keras format, e.g. `model.save('my_model.keras')`.\n",
      "  saving_api.save_model(\n"
     ]
    },
    {
     "name": "stdout",
     "output_type": "stream",
     "text": [
      "Epoch 2/80\n",
      "25/25 [==============================] - 2s 90ms/step - loss: 0.3230 - accuracy: 0.9002 - val_loss: 0.2940 - val_accuracy: 0.9032\n",
      "Epoch 3/80\n",
      "25/25 [==============================] - 3s 105ms/step - loss: 0.2608 - accuracy: 0.9112 - val_loss: 0.2980 - val_accuracy: 0.9167\n",
      "Epoch 4/80\n",
      "25/25 [==============================] - 3s 106ms/step - loss: 0.2423 - accuracy: 0.9141 - val_loss: 0.2455 - val_accuracy: 0.9105\n",
      "Epoch 5/80\n",
      "25/25 [==============================] - 1s 56ms/step - loss: 0.2244 - accuracy: 0.9202 - val_loss: 0.2272 - val_accuracy: 0.9130\n",
      "Epoch 6/80\n",
      "25/25 [==============================] - 1s 59ms/step - loss: 0.2113 - accuracy: 0.9256 - val_loss: 0.2372 - val_accuracy: 0.9191\n",
      "Epoch 7/80\n",
      "25/25 [==============================] - 2s 87ms/step - loss: 0.1976 - accuracy: 0.9264 - val_loss: 0.2087 - val_accuracy: 0.9252\n",
      "Epoch 8/80\n",
      "25/25 [==============================] - 2s 79ms/step - loss: 0.1906 - accuracy: 0.9309 - val_loss: 0.1975 - val_accuracy: 0.9228\n",
      "Epoch 9/80\n",
      "25/25 [==============================] - 2s 85ms/step - loss: 0.1821 - accuracy: 0.9313 - val_loss: 0.2048 - val_accuracy: 0.9216\n",
      "Epoch 10/80\n",
      "25/25 [==============================] - 1s 58ms/step - loss: 0.1719 - accuracy: 0.9382 - val_loss: 0.1943 - val_accuracy: 0.9277\n",
      "Epoch 11/80\n",
      "25/25 [==============================] - 1s 56ms/step - loss: 0.1683 - accuracy: 0.9403 - val_loss: 0.1957 - val_accuracy: 0.9265\n",
      "Epoch 12/80\n",
      "25/25 [==============================] - 1s 56ms/step - loss: 0.1601 - accuracy: 0.9407 - val_loss: 0.2329 - val_accuracy: 0.9216\n",
      "Epoch 13/80\n",
      "25/25 [==============================] - 1s 52ms/step - loss: 0.1593 - accuracy: 0.9427 - val_loss: 0.1709 - val_accuracy: 0.9314\n",
      "Epoch 14/80\n",
      "25/25 [==============================] - 1s 52ms/step - loss: 0.1527 - accuracy: 0.9448 - val_loss: 0.1859 - val_accuracy: 0.9350\n",
      "Epoch 15/80\n",
      "25/25 [==============================] - 1s 49ms/step - loss: 0.1505 - accuracy: 0.9452 - val_loss: 0.2010 - val_accuracy: 0.9301\n",
      "Epoch 16/80\n",
      "25/25 [==============================] - 1s 56ms/step - loss: 0.1393 - accuracy: 0.9497 - val_loss: 0.1695 - val_accuracy: 0.9338\n",
      "Epoch 17/80\n",
      "25/25 [==============================] - 2s 76ms/step - loss: 0.1363 - accuracy: 0.9513 - val_loss: 0.1614 - val_accuracy: 0.9375\n",
      "Epoch 18/80\n",
      "25/25 [==============================] - 2s 86ms/step - loss: 0.1305 - accuracy: 0.9579 - val_loss: 0.1594 - val_accuracy: 0.9387\n",
      "Epoch 19/80\n",
      "25/25 [==============================] - 2s 80ms/step - loss: 0.1305 - accuracy: 0.9575 - val_loss: 0.1597 - val_accuracy: 0.9363\n",
      "Epoch 20/80\n",
      "25/25 [==============================] - 2s 72ms/step - loss: 0.1254 - accuracy: 0.9591 - val_loss: 0.1860 - val_accuracy: 0.9338\n",
      "Epoch 21/80\n",
      "25/25 [==============================] - 1s 49ms/step - loss: 0.1227 - accuracy: 0.9587 - val_loss: 0.2170 - val_accuracy: 0.9277\n",
      "Epoch 22/80\n",
      "25/25 [==============================] - 1s 51ms/step - loss: 0.1196 - accuracy: 0.9616 - val_loss: 0.1495 - val_accuracy: 0.9436\n",
      "Epoch 23/80\n",
      "25/25 [==============================] - 1s 51ms/step - loss: 0.1165 - accuracy: 0.9591 - val_loss: 0.1817 - val_accuracy: 0.9301\n",
      "Epoch 24/80\n",
      "25/25 [==============================] - 1s 50ms/step - loss: 0.1191 - accuracy: 0.9575 - val_loss: 0.1617 - val_accuracy: 0.9400\n",
      "Epoch 25/80\n",
      "25/25 [==============================] - 1s 49ms/step - loss: 0.1101 - accuracy: 0.9628 - val_loss: 0.1662 - val_accuracy: 0.9387\n",
      "Epoch 26/80\n",
      "25/25 [==============================] - 1s 52ms/step - loss: 0.1074 - accuracy: 0.9640 - val_loss: 0.1502 - val_accuracy: 0.9498\n",
      "Epoch 27/80\n",
      "25/25 [==============================] - 1s 49ms/step - loss: 0.1080 - accuracy: 0.9620 - val_loss: 0.1653 - val_accuracy: 0.9400\n"
     ]
    }
   ],
   "source": [
    "# обучаем нейросеть\n",
    "H = model.fit(trainX, trainY, validation_data=(testX, testY),\n",
    "\tepochs=EPOCHS, batch_size=100, callbacks=[early_stopping, checkpoint])"
   ]
  },
  {
   "cell_type": "markdown",
   "metadata": {
    "id": "-dESH383noKz"
   },
   "source": [
    "#### 6.3. Загружаем лучшую модель:"
   ]
  },
  {
   "cell_type": "code",
   "execution_count": 54,
   "metadata": {
    "id": "_ZOMBkJk3Dgk"
   },
   "outputs": [],
   "source": [
    "# Ваш код\n",
    "from keras.models import load_model\n",
    "\n",
    "model = load_model(\"/content/best_model.h5\")"
   ]
  },
  {
   "cell_type": "markdown",
   "metadata": {
    "id": "CLv-TknOoQ8l"
   },
   "source": [
    "### 7. Оценка точности:"
   ]
  },
  {
   "cell_type": "markdown",
   "metadata": {
    "id": "J16c8i49o2Kq"
   },
   "source": [
    "#### 7.1. Выведем отчет классификации"
   ]
  },
  {
   "cell_type": "code",
   "execution_count": 55,
   "metadata": {
    "colab": {
     "base_uri": "https://localhost:8080/"
    },
    "id": "cqmQz4mO3D5s",
    "outputId": "b505653c-8e1e-403f-d44d-e9848fba6c8f"
   },
   "outputs": [
    {
     "name": "stdout",
     "output_type": "stream",
     "text": [
      "[INFO] evaluating network...\n",
      "19/19 [==============================] - 0s 18ms/step\n",
      "              precision    recall  f1-score   support\n",
      "\n",
      "       apple       0.91      0.97      0.94       270\n",
      "       lemon       0.96      1.00      0.98       279\n",
      "      tomato       0.98      0.88      0.93       267\n",
      "\n",
      "    accuracy                           0.95       816\n",
      "   macro avg       0.95      0.95      0.95       816\n",
      "weighted avg       0.95      0.95      0.95       816\n",
      "\n"
     ]
    }
   ],
   "source": [
    "# оцениваем нейросеть\n",
    "print(\"[INFO] evaluating network...\")\n",
    "predictions = model.predict(testX, batch_size=45)\n",
    "print(classification_report(testY.argmax(axis=1),\n",
    "\tpredictions.argmax(axis=1), target_names=lb.classes_))"
   ]
  },
  {
   "cell_type": "markdown",
   "metadata": {
    "id": "YwbFnynjpKYS"
   },
   "source": [
    "#### 7.2. Выведем матрицу ошибок"
   ]
  },
  {
   "cell_type": "code",
   "execution_count": 62,
   "metadata": {
    "colab": {
     "base_uri": "https://localhost:8080/"
    },
    "id": "77_vkdSk3EOd",
    "outputId": "225d7c11-7660-4e5d-e49c-e29c6272cde9"
   },
   "outputs": [
    {
     "name": "stdout",
     "output_type": "stream",
     "text": [
      "26/26 [==============================] - 0s 18ms/step\n"
     ]
    }
   ],
   "source": [
    "from sklearn.metrics import confusion_matrix\n",
    "import seaborn as sns\n",
    "\n",
    "# Получим прогнозы по валидационным даннным\n",
    "Y_pred = model.predict(testX, batch_size=32)\n",
    "\n",
    "# Преобразуем вероятности в метки классов\n",
    "Y_pred = Y_pred.argmax(axis=1)\n",
    "Y_val = testY.argmax(axis=1)\n",
    "\n",
    "# Вычисляем матрицу ошибок\n",
    "conf_mat = confusion_matrix(Y_val, Y_pred)\n",
    "\n",
    "# Визуализируем матрицу ошибок\n",
    "sns.heatmap(conf_mat, annot=True, fmt=\"d\", cmap=\"YlGnBu\")\n",
    "plt.show()"
   ]
  },
  {
   "cell_type": "code",
   "execution_count": 61,
   "metadata": {
    "colab": {
     "base_uri": "https://localhost:8080/",
     "height": 566
    },
    "id": "ALa4XomM3EmL",
    "outputId": "fdad0b72-1048-40e6-f0c1-599707c9f222"
   },
   "outputs": [
    {
     "name": "stdout",
     "output_type": "stream",
     "text": [
      "[ 0  1  2  3  4  5  6  7  8  9 10 11 12 13 14 15 16 17 18 19 20 21 22 23\n",
      " 24 25 26 27 28 29 30 31 32 33 34 35 36 37 38 39 40 41 42 43 44 45 46 47\n",
      " 48 49 50 51 52 53 54 55 56 57 58 59 60 61 62 63 64 65 66 67 68 69 70 71\n",
      " 72 73 74 75 76 77 78 79]\n"
     ]
    },
    {
     "data": {
      "image/png": "[encoded data removed]",
      "text/plain": [
       "<PIL.Image.Image image mode=RGB size=640x480>"
      ]
     },
     "metadata": {},
     "output_type": "display_data"
    }
   ],
   "source": [
    "# строим графики потерь и точности\n",
    "N = np.arange(0, EPOCHS)\n",
    "print(N)\n",
    "plt.style.use(\"ggplot\")\n",
    "plt.figure()\n",
    "#plt.plot(N, H.history[\"loss\"], label=\"train_loss\")\n",
    "plt.plot(H.history[\"loss\"], label=\"train_loss\")\n",
    "plt.plot(H.history[\"val_loss\"], label=\"val_loss\")\n",
    "plt.plot(H.history[\"accuracy\"], label=\"train_acc\")\n",
    "plt.plot(H.history[\"val_accuracy\"], label=\"val_acc\")\n",
    "plt.title(\"Training Loss and Accuracy (Simple NN)\")\n",
    "plt.xlabel(\"Epoch #\")\n",
    "plt.ylabel(\"Loss/Accuracy\")\n",
    "plt.legend()\n",
    "plt.savefig('plot.png')\n",
    "cv2_imshow(cv2.imread(\"plot.png\"))"
   ]
  },
  {
   "cell_type": "markdown",
   "metadata": {
    "id": "oqoaYCciugwi"
   },
   "source": [
    "#### 7.3. Отобразим график обучения"
   ]
  },
  {
   "cell_type": "markdown",
   "metadata": {
    "id": "RZfpw-xQu3Q8"
   },
   "source": [
    "### 8. Сохранение модели и меток классов:"
   ]
  },
  {
   "cell_type": "code",
   "execution_count": 63,
   "metadata": {
    "id": "mGlt9K8N3E7D"
   },
   "outputs": [],
   "source": [
    "# Ваш код\n",
    "def save_model_and_labels(model, lb, model_path = \"model.h5\", labels_path = \"label_bin\"):\n",
    "\n",
    "    # Сохранение модели\n",
    "    model.save(model_path, save_format=\"h5\")\n",
    "\n",
    "    # Сохранение меток\n",
    "    with open(labels_path, \"wb\") as f:\n",
    "        f.write(pickle.dumps(lb))"
   ]
  },
  {
   "cell_type": "code",
   "execution_count": 64,
   "metadata": {
    "colab": {
     "base_uri": "https://localhost:8080/"
    },
    "id": "x9TuLS18vE52",
    "outputId": "da16cdb2-a086-4588-ef0a-8e97ab87e8c9"
   },
   "outputs": [
    {
     "name": "stderr",
     "output_type": "stream",
     "text": [
      "/usr/local/lib/python3.10/dist-packages/keras/src/engine/training.py:3103: UserWarning: You are saving your model as an HDF5 file via `model.save()`. This file format is considered legacy. We recommend using instead the native Keras format, e.g. `model.save('my_model.keras')`.\n",
      "  saving_api.save_model(\n"
     ]
    }
   ],
   "source": [
    "model_path = \"model.h5\"\n",
    "labels_path = \"label_bin\"\n",
    "\n",
    "save_model_and_labels(model, lb, model_path, labels_path)"
   ]
  },
  {
   "cell_type": "markdown",
   "metadata": {
    "id": "YjyCuhw1aeti"
   },
   "source": [
    "### 9. Проверка обученной модели пользовательскими данными:"
   ]
  },
  {
   "cell_type": "markdown",
   "metadata": {
    "id": "yfUIW800wuyu"
   },
   "source": [
    "#### 9.1. Импортируем необходимые библиотеки"
   ]
  },
  {
   "cell_type": "code",
   "execution_count": 65,
   "metadata": {
    "colab": {
     "base_uri": "https://localhost:8080/"
    },
    "id": "wk1qihbS3FR1",
    "outputId": "7858cadb-374f-4b54-ec4e-0b4475c07291"
   },
   "outputs": [
    {
     "name": "stdout",
     "output_type": "stream",
     "text": [
      "Requirement already satisfied: gradio in /usr/local/lib/python3.10/dist-packages (4.22.0)\n",
      "Requirement already satisfied: aiofiles<24.0,>=22.0 in /usr/local/lib/python3.10/dist-packages (from gradio) (23.2.1)\n",
      "Requirement already satisfied: altair<6.0,>=4.2.0 in /usr/local/lib/python3.10/dist-packages (from gradio) (4.2.2)\n",
      "Requirement already satisfied: fastapi in /usr/local/lib/python3.10/dist-packages (from gradio) (0.110.0)\n",
      "Requirement already satisfied: ffmpy in /usr/local/lib/python3.10/dist-packages (from gradio) (0.3.2)\n",
      "Requirement already satisfied: gradio-client==0.13.0 in /usr/local/lib/python3.10/dist-packages (from gradio) (0.13.0)\n",
      "Requirement already satisfied: httpx>=0.24.1 in /usr/local/lib/python3.10/dist-packages (from gradio) (0.27.0)\n",
      "Requirement already satisfied: huggingface-hub>=0.19.3 in /usr/local/lib/python3.10/dist-packages (from gradio) (0.20.3)\n",
      "Requirement already satisfied: importlib-resources<7.0,>=1.3 in /usr/local/lib/python3.10/dist-packages (from gradio) (6.3.2)\n",
      "Requirement already satisfied: jinja2<4.0 in /usr/local/lib/python3.10/dist-packages (from gradio) (3.1.3)\n",
      "Requirement already satisfied: markupsafe~=2.0 in /usr/local/lib/python3.10/dist-packages (from gradio) (2.1.5)\n",
      "Requirement already satisfied: matplotlib~=3.0 in /usr/local/lib/python3.10/dist-packages (from gradio) (3.7.1)\n",
      "Requirement already satisfied: numpy~=1.0 in /usr/local/lib/python3.10/dist-packages (from gradio) (1.25.2)\n",
      "Requirement already satisfied: orjson~=3.0 in /usr/local/lib/python3.10/dist-packages (from gradio) (3.9.15)\n",
      "Requirement already satisfied: packaging in /usr/local/lib/python3.10/dist-packages (from gradio) (24.0)\n",
      "Requirement already satisfied: pandas<3.0,>=1.0 in /usr/local/lib/python3.10/dist-packages (from gradio) (1.5.3)\n",
      "Requirement already satisfied: pillow<11.0,>=8.0 in /usr/local/lib/python3.10/dist-packages (from gradio) (9.4.0)\n",
      "Requirement already satisfied: pydantic>=2.0 in /usr/local/lib/python3.10/dist-packages (from gradio) (2.6.4)\n",
      "Requirement already satisfied: pydub in /usr/local/lib/python3.10/dist-packages (from gradio) (0.25.1)\n",
      "Requirement already satisfied: python-multipart>=0.0.9 in /usr/local/lib/python3.10/dist-packages (from gradio) (0.0.9)\n",
      "Requirement already satisfied: pyyaml<7.0,>=5.0 in /usr/local/lib/python3.10/dist-packages (from gradio) (6.0.1)\n",
      "Requirement already satisfied: ruff>=0.2.2 in /usr/local/lib/python3.10/dist-packages (from gradio) (0.3.4)\n",
      "Requirement already satisfied: semantic-version~=2.0 in /usr/local/lib/python3.10/dist-packages (from gradio) (2.10.0)\n",
      "Requirement already satisfied: tomlkit==0.12.0 in /usr/local/lib/python3.10/dist-packages (from gradio) (0.12.0)\n",
      "Requirement already satisfied: typer[all]<1.0,>=0.9 in /usr/local/lib/python3.10/dist-packages (from gradio) (0.9.0)\n",
      "Requirement already satisfied: typing-extensions~=4.0 in /usr/local/lib/python3.10/dist-packages (from gradio) (4.10.0)\n",
      "Requirement already satisfied: uvicorn>=0.14.0 in /usr/local/lib/python3.10/dist-packages (from gradio) (0.29.0)\n",
      "Requirement already satisfied: fsspec in /usr/local/lib/python3.10/dist-packages (from gradio-client==0.13.0->gradio) (2023.6.0)\n",
      "Requirement already satisfied: websockets<12.0,>=10.0 in /usr/local/lib/python3.10/dist-packages (from gradio-client==0.13.0->gradio) (11.0.3)\n",
      "Requirement already satisfied: entrypoints in /usr/local/lib/python3.10/dist-packages (from altair<6.0,>=4.2.0->gradio) (0.4)\n",
      "Requirement already satisfied: jsonschema>=3.0 in /usr/local/lib/python3.10/dist-packages (from altair<6.0,>=4.2.0->gradio) (4.19.2)\n",
      "Requirement already satisfied: toolz in /usr/local/lib/python3.10/dist-packages (from altair<6.0,>=4.2.0->gradio) (0.12.1)\n",
      "Requirement already satisfied: anyio in /usr/local/lib/python3.10/dist-packages (from httpx>=0.24.1->gradio) (3.7.1)\n",
      "Requirement already satisfied: certifi in /usr/local/lib/python3.10/dist-packages (from httpx>=0.24.1->gradio) (2024.2.2)\n",
      "Requirement already satisfied: httpcore==1.* in /usr/local/lib/python3.10/dist-packages (from httpx>=0.24.1->gradio) (1.0.4)\n",
      "Requirement already satisfied: idna in /usr/local/lib/python3.10/dist-packages (from httpx>=0.24.1->gradio) (3.6)\n",
      "Requirement already satisfied: sniffio in /usr/local/lib/python3.10/dist-packages (from httpx>=0.24.1->gradio) (1.3.1)\n",
      "Requirement already satisfied: h11<0.15,>=0.13 in /usr/local/lib/python3.10/dist-packages (from httpcore==1.*->httpx>=0.24.1->gradio) (0.14.0)\n",
      "Requirement already satisfied: filelock in /usr/local/lib/python3.10/dist-packages (from huggingface-hub>=0.19.3->gradio) (3.13.1)\n",
      "Requirement already satisfied: requests in /usr/local/lib/python3.10/dist-packages (from huggingface-hub>=0.19.3->gradio) (2.31.0)\n",
      "Requirement already satisfied: tqdm>=4.42.1 in /usr/local/lib/python3.10/dist-packages (from huggingface-hub>=0.19.3->gradio) (4.66.2)\n",
      "Requirement already satisfied: contourpy>=1.0.1 in /usr/local/lib/python3.10/dist-packages (from matplotlib~=3.0->gradio) (1.2.0)\n",
      "Requirement already satisfied: cycler>=0.10 in /usr/local/lib/python3.10/dist-packages (from matplotlib~=3.0->gradio) (0.12.1)\n",
      "Requirement already satisfied: fonttools>=4.22.0 in /usr/local/lib/python3.10/dist-packages (from matplotlib~=3.0->gradio) (4.50.0)\n",
      "Requirement already satisfied: kiwisolver>=1.0.1 in /usr/local/lib/python3.10/dist-packages (from matplotlib~=3.0->gradio) (1.4.5)\n",
      "Requirement already satisfied: pyparsing>=2.3.1 in /usr/local/lib/python3.10/dist-packages (from matplotlib~=3.0->gradio) (3.1.2)\n",
      "Requirement already satisfied: python-dateutil>=2.7 in /usr/local/lib/python3.10/dist-packages (from matplotlib~=3.0->gradio) (2.8.2)\n",
      "Requirement already satisfied: pytz>=2020.1 in /usr/local/lib/python3.10/dist-packages (from pandas<3.0,>=1.0->gradio) (2023.4)\n",
      "Requirement already satisfied: annotated-types>=0.4.0 in /usr/local/lib/python3.10/dist-packages (from pydantic>=2.0->gradio) (0.6.0)\n",
      "Requirement already satisfied: pydantic-core==2.16.3 in /usr/local/lib/python3.10/dist-packages (from pydantic>=2.0->gradio) (2.16.3)\n",
      "Requirement already satisfied: click<9.0.0,>=7.1.1 in /usr/local/lib/python3.10/dist-packages (from typer[all]<1.0,>=0.9->gradio) (8.1.7)\n",
      "Requirement already satisfied: colorama<0.5.0,>=0.4.3 in /usr/local/lib/python3.10/dist-packages (from typer[all]<1.0,>=0.9->gradio) (0.4.6)\n",
      "Requirement already satisfied: shellingham<2.0.0,>=1.3.0 in /usr/local/lib/python3.10/dist-packages (from typer[all]<1.0,>=0.9->gradio) (1.5.4)\n",
      "Requirement already satisfied: rich<14.0.0,>=10.11.0 in /usr/local/lib/python3.10/dist-packages (from typer[all]<1.0,>=0.9->gradio) (13.7.1)\n",
      "Requirement already satisfied: starlette<0.37.0,>=0.36.3 in /usr/local/lib/python3.10/dist-packages (from fastapi->gradio) (0.36.3)\n",
      "Requirement already satisfied: attrs>=22.2.0 in /usr/local/lib/python3.10/dist-packages (from jsonschema>=3.0->altair<6.0,>=4.2.0->gradio) (23.2.0)\n",
      "Requirement already satisfied: jsonschema-specifications>=2023.03.6 in /usr/local/lib/python3.10/dist-packages (from jsonschema>=3.0->altair<6.0,>=4.2.0->gradio) (2023.12.1)\n",
      "Requirement already satisfied: referencing>=0.28.4 in /usr/local/lib/python3.10/dist-packages (from jsonschema>=3.0->altair<6.0,>=4.2.0->gradio) (0.34.0)\n",
      "Requirement already satisfied: rpds-py>=0.7.1 in /usr/local/lib/python3.10/dist-packages (from jsonschema>=3.0->altair<6.0,>=4.2.0->gradio) (0.18.0)\n",
      "Requirement already satisfied: six>=1.5 in /usr/local/lib/python3.10/dist-packages (from python-dateutil>=2.7->matplotlib~=3.0->gradio) (1.16.0)\n",
      "Requirement already satisfied: markdown-it-py>=2.2.0 in /usr/local/lib/python3.10/dist-packages (from rich<14.0.0,>=10.11.0->typer[all]<1.0,>=0.9->gradio) (3.0.0)\n",
      "Requirement already satisfied: pygments<3.0.0,>=2.13.0 in /usr/local/lib/python3.10/dist-packages (from rich<14.0.0,>=10.11.0->typer[all]<1.0,>=0.9->gradio) (2.16.1)\n",
      "Requirement already satisfied: exceptiongroup in /usr/local/lib/python3.10/dist-packages (from anyio->httpx>=0.24.1->gradio) (1.2.0)\n",
      "Requirement already satisfied: charset-normalizer<4,>=2 in /usr/local/lib/python3.10/dist-packages (from requests->huggingface-hub>=0.19.3->gradio) (3.3.2)\n",
      "Requirement already satisfied: urllib3<3,>=1.21.1 in /usr/local/lib/python3.10/dist-packages (from requests->huggingface-hub>=0.19.3->gradio) (2.0.7)\n",
      "Requirement already satisfied: mdurl~=0.1 in /usr/local/lib/python3.10/dist-packages (from markdown-it-py>=2.2.0->rich<14.0.0,>=10.11.0->typer[all]<1.0,>=0.9->gradio) (0.1.2)\n"
     ]
    }
   ],
   "source": [
    "# Ваш код\n",
    "!pip install gradio"
   ]
  },
  {
   "cell_type": "code",
   "execution_count": 66,
   "metadata": {
    "id": "uWXOqiAmvMax"
   },
   "outputs": [],
   "source": [
    "from keras.models import load_model\n",
    "import gradio as gr  # Библиотека для создания веб-интерфейсов\n",
    "import pickle\n",
    "import cv2"
   ]
  },
  {
   "cell_type": "markdown",
   "metadata": {
    "id": "PM2dadCBwzES"
   },
   "source": [
    "#### 9.2. Реализуем функцию для предобработки входных данных в той же последовательности, что и при формировании обучающей выборки:"
   ]
  },
  {
   "cell_type": "code",
   "execution_count": 67,
   "metadata": {
    "id": "P4KLc85A3FkU"
   },
   "outputs": [],
   "source": [
    "# Функция для предобработки изображения\n",
    "def preprocess_image(img, compression_size = 32):\n",
    "\n",
    "    image = img.copy()  # Создаем копию изображения\n",
    "    # Изменяем размер изображения до compression_size x compression_size пикселей\n",
    "    image = cv2.resize(image, (compression_size, compression_size))\n",
    "    # Преобразуем изображение в одномерный массив (вектор)\n",
    "    image = image.flatten()\n",
    "    # Масштабируем значения пикселей к диапазону [0, 1]\n",
    "    image = image.astype(\"float\") / 255.0\n",
    "    # Преобразуем массив в формат, совместимый с нашей моделью Keras\n",
    "    image = image.reshape((1, image.shape[0]))\n",
    "\n",
    "    return image"
   ]
  },
  {
   "cell_type": "markdown",
   "metadata": {
    "id": "UXPI1dAIxvPz"
   },
   "source": [
    "#### 9.3. Определим функцию для осуществления прогноза по загруженной модели:"
   ]
  },
  {
   "cell_type": "code",
   "execution_count": 68,
   "metadata": {
    "id": "LO4Ty_t0anmv"
   },
   "outputs": [],
   "source": [
    "def predict_image(img, preprocess_func = preprocess_image, model_path = \"model.h5\", label_path = \"label_bin\"):\n",
    "\n",
    "    # Загружаем модель и метки\n",
    "    model = load_model(model_path)  # Загрузка модели Keras\n",
    "    lb = pickle.loads(open(label_path, \"rb\").read())  # Загрузка словаря с метками\n",
    "\n",
    "    # Делаем предсказание на изображении\n",
    "    image = preprocess_func(img.copy())  # Предобработка изображения\n",
    "    preds = model.predict(image).flatten()  # Выполнение предсказания\n",
    "\n",
    "    # Возвращаем словарь с метками и вероятностями для каждого класса\n",
    "    confidences = {lb.classes_[i]: float(preds[i]) for i in range(len(preds))}\n",
    "\n",
    "    return confidences"
   ]
  },
  {
   "cell_type": "markdown",
   "metadata": {
    "id": "acXaOZ_z3dDq"
   },
   "source": [
    "### 10. Визуализируем интерфейс и произведем классификацию:"
   ]
  },
  {
   "cell_type": "code",
   "execution_count": 74,
   "metadata": {
    "colab": {
     "base_uri": "https://localhost:8080/",
     "height": 591
    },
    "id": "5wW8xYEB3dDr",
    "outputId": "81a987ac-0da0-440c-af83-ba85bffd831f"
   },
   "outputs": [
    {
     "name": "stdout",
     "output_type": "stream",
     "text": [
      "Colab notebook detected. To show errors in colab notebook, set debug=True in launch()\n",
      "Running on public URL: https://0acf7ddb754cbfe4ec.gradio.live\n",
      "\n",
      "This share link expires in 72 hours. For free permanent hosting and GPU upgrades, run `gradio deploy` from Terminal to deploy to Spaces (https://huggingface.co/spaces)\n"
     ]
    },
    {
     "data": {
      "text/html": [
       "<div><iframe src=\"https://0acf7ddb754cbfe4ec.gradio.live\" width=\"100%\" height=\"500\" allow=\"autoplay; camera; microphone; clipboard-read; clipboard-write;\" frameborder=\"0\" allowfullscreen></iframe></div>"
      ],
      "text/plain": [
       "<IPython.core.display.HTML object>"
      ]
     },
     "metadata": {},
     "output_type": "display_data"
    },
    {
     "data": {
      "text/plain": []
     },
     "execution_count": 74,
     "metadata": {},
     "output_type": "execute_result"
    }
   ],
   "source": [
    "# Создаем интерфейс Gradio\n",
    "interface = gr.Interface(\n",
    "    fn=predict_image,  # Функция, которая будет вызываться при загрузке изображения\n",
    "    inputs=gr.Image(label=\"Загрузите изображение\"),  # Входные данные: изображение\n",
    "    outputs= gr.Label(num_top_classes=len(lb.classes_)), # Выходные данные: топ-N классов с наибольшей вероятностью\n",
    "    examples=[\"/content/drive/MyDrive/content/vegetables/lemon/lemon_1.jpg\",\n",
    "              \"/content/drive/MyDrive/content/vegetables/tomato/tomato_0926.jpeg\",\n",
    "              \"/content/drive/MyDrive/content/vegetables/apple/apple_0556.jpg\"])\n",
    "\n",
    "# Запускаем интерфейс\n",
    "interface.launch(share=True)"
   ]
  }
 ],
 "metadata": {
  "colab": {
   "include_colab_link": true,
   "provenance": []
  },
  "kernelspec": {
   "display_name": "Python 3 (ipykernel)",
   "language": "python",
   "name": "python3"
  },
  "language_info": {
   "codemirror_mode": {
    "name": "ipython",
    "version": 3
   },
   "file_extension": ".py",
   "mimetype": "text/x-python",
   "name": "python",
   "nbconvert_exporter": "python",
   "pygments_lexer": "ipython3",
   "version": "3.12.1"
  }
 },
 "nbformat": 4,
 "nbformat_minor": 4
}
