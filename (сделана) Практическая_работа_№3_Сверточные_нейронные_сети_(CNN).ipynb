{
 "cells": [
  {
   "cell_type": "markdown",
   "metadata": {
    "id": "cY-IVs-11lcN"
   },
   "source": [
    "# Задание №1. Использование глубокой сверточной нейронной сети для классификации предметов одежды на примере датасета Fashion MNIST\n"
   ]
  },
  {
   "cell_type": "markdown",
   "metadata": {
    "id": "tl-m4deYZmbh"
   },
   "source": [
    "**В качестве интерфейса для работы с моделями используйте [Gradio](https://colab.research.google.com/drive/18EM8mrpURStkmbxWjZybWbWh23Si5b4A#scrollTo=-uu_VR8H2K4h)**"
   ]
  },
  {
   "cell_type": "markdown",
   "metadata": {
    "id": "20Vy9kORZplL"
   },
   "source": [
    "[Техническая документация по датасету](https://www.kaggle.com/datasets/zalando-research/fashionmnist)"
   ]
  },
  {
   "cell_type": "markdown",
   "metadata": {
    "id": "btqKiaPYZ88p"
   },
   "source": [
    "## 1.1. Устанавливаем необходимые зависимости"
   ]
  },
  {
   "cell_type": "code",
   "execution_count": null,
   "metadata": {
    "id": "vhuZudFB1Y89"
   },
   "outputs": [],
   "source": [
    "from keras.datasets import fashion_mnist\n",
    "from keras.models import Sequential\n",
    "from keras.layers import Conv2D, MaxPooling2D, Dense, Dropout, Flatten, AveragePooling2D\n",
    "from keras.optimizers import Adam, SGD\n",
    "import matplotlib.pyplot as plt\n",
    "import numpy as np\n",
    "\n",
    "import numpy as np\n",
    "import pandas as pd\n",
    "import matplotlib.pyplot as plt\n",
    "\n",
    "import os\n",
    "os.environ['TF_CPP_MIN_LOG_LEVEL']='2'\n",
    "\n",
    "import keras\n",
    "from keras import backend as K"
   ]
  },
  {
   "cell_type": "markdown",
   "metadata": {
    "id": "VGDdR_nnaWJx"
   },
   "source": [
    "## 1.2. Разделяем данные на обучающую и тестовую выборку"
   ]
  },
  {
   "cell_type": "code",
   "execution_count": null,
   "metadata": {
    "id": "vexn6MyRF0Do"
   },
   "outputs": [],
   "source": [
    "num_classes = 10\n",
    "batch_size = 32\n",
    "epoch = 24\n",
    "img_rows, img_cols = 28,28"
   ]
  },
  {
   "cell_type": "code",
   "execution_count": null,
   "metadata": {
    "colab": {
     "base_uri": "https://localhost:8080/"
    },
    "id": "BOi1_2reaay_",
    "outputId": "c04c40f7-abe1-4a2e-a268-a92ca24a3829"
   },
   "outputs": [
    {
     "name": "stdout",
     "output_type": "stream",
     "text": [
      "Downloading data from https://storage.googleapis.com/tensorflow/tf-keras-datasets/train-labels-idx1-ubyte.gz\n",
      "29515/29515 [==============================] - 0s 0us/step\n",
      "Downloading data from https://storage.googleapis.com/tensorflow/tf-keras-datasets/train-images-idx3-ubyte.gz\n",
      "26421880/26421880 [==============================] - 1s 0us/step\n",
      "Downloading data from https://storage.googleapis.com/tensorflow/tf-keras-datasets/t10k-labels-idx1-ubyte.gz\n",
      "5148/5148 [==============================] - 0s 0us/step\n",
      "Downloading data from https://storage.googleapis.com/tensorflow/tf-keras-datasets/t10k-images-idx3-ubyte.gz\n",
      "4422102/4422102 [==============================] - 0s 0us/step\n",
      "Train: X =  (60000, 28, 28, 1)\n",
      "Test: X =  (10000, 28, 28, 1)\n"
     ]
    }
   ],
   "source": [
    "(trainX, trainy), (testX, testy) = fashion_mnist.load_data()\n",
    "\n",
    "#Deal with format issues between different backends. Some put the no. of channels in the image before the width and height.\n",
    "if K.image_data_format() == 'channels_first':\n",
    "    trainX=trainX.reshape(trainX.shape[0],1,img_rows,img_cols)\n",
    "    testX =testX.reshape(testX.shape[0],1,img_rows,img_cols)\n",
    "    input_shape=(1,img_rows,img_cols)\n",
    "else:\n",
    "    trainX=trainX.reshape(trainX.shape[0],img_rows,img_cols,1)\n",
    "    testX =testX.reshape(testX.shape[0],img_rows,img_cols,1)\n",
    "    input_shape=(img_rows,img_cols,1)\n",
    "\n",
    "trainX = trainX.astype('float32')\n",
    "testX = testX.astype('float32')\n",
    "trainX /= 255\n",
    "testX /= 255\n",
    "\n",
    "print('Train: X = ', trainX.shape)\n",
    "print('Test: X = ', testX.shape)"
   ]
  },
  {
   "cell_type": "code",
   "execution_count": null,
   "metadata": {
    "id": "xoGkZ5TrdZFO"
   },
   "outputs": [],
   "source": [
    "trainy = keras.utils.to_categorical(trainy,num_classes=num_classes)\n",
    "testy = keras.utils.to_categorical(testy,num_classes=num_classes)"
   ]
  },
  {
   "cell_type": "markdown",
   "metadata": {
    "id": "zqsyByyEaa8F"
   },
   "source": [
    "## 1.3. Визуализируем часть данных из датасета"
   ]
  },
  {
   "cell_type": "code",
   "execution_count": null,
   "metadata": {
    "colab": {
     "base_uri": "https://localhost:8080/",
     "height": 433
    },
    "id": "FhPYAoXCbHUC",
    "outputId": "a1d5684f-372e-444a-eda4-ddcf9ab5e03d"
   },
   "outputs": [
    {
     "data": {
      "image/png": "[encoded data removed]",
      "text/plain": [
       "<Figure size 640x480 with 9 Axes>"
      ]
     },
     "metadata": {},
     "output_type": "display_data"
    }
   ],
   "source": [
    "for i in range(1, 10):\n",
    "    plt.subplot(3, 3, i)\n",
    "    plt.imshow(trainX[i], cmap=plt.get_cmap('gray'))\n",
    "\n",
    "plt.show()"
   ]
  },
  {
   "cell_type": "markdown",
   "metadata": {
    "id": "2vi6xrt3bHbU"
   },
   "source": [
    "## 1.4. Создаём архитектуру нейронной сети и компилируем модель"
   ]
  },
  {
   "cell_type": "code",
   "execution_count": null,
   "metadata": {
    "id": "mJ4p4DvGOF-k"
   },
   "outputs": [],
   "source": [
    "import numpy as np\n",
    "import pandas as pd\n",
    "import matplotlib.pyplot as plt\n",
    "from tensorflow import keras\n",
    "import os\n",
    "os.environ['TF_CPP_MIN_LOG_LEVEL']='2'\n",
    "import keras\n",
    "from keras.datasets import fashion_mnist\n",
    "from keras.models import Sequential\n",
    "from keras.layers import Dense, Dropout, Flatten\n",
    "from keras.layers import Conv2D, MaxPooling2D\n",
    "from keras import backend as K"
   ]
  },
  {
   "cell_type": "code",
   "execution_count": null,
   "metadata": {
    "colab": {
     "base_uri": "https://localhost:8080/"
    },
    "id": "f14ixzoFbHiF",
    "outputId": "a9612661-b24f-4c0a-eda2-dee4d89d1809"
   },
   "outputs": [
    {
     "name": "stdout",
     "output_type": "stream",
     "text": [
      "Model: \"sequential\"\n",
      "_________________________________________________________________\n",
      " Layer (type)                Output Shape              Param #   \n",
      "=================================================================\n",
      " conv2d (Conv2D)             (None, 26, 26, 32)        320       \n",
      "                                                                 \n",
      " conv2d_1 (Conv2D)           (None, 24, 24, 64)        18496     \n",
      "                                                                 \n",
      " max_pooling2d (MaxPooling2  (None, 12, 12, 64)        0         \n",
      " D)                                                              \n",
      "                                                                 \n",
      " flatten (Flatten)           (None, 9216)              0         \n",
      "                                                                 \n",
      " dense (Dense)               (None, 128)               1179776   \n",
      "                                                                 \n",
      " dropout (Dropout)           (None, 128)               0         \n",
      "                                                                 \n",
      " dense_1 (Dense)             (None, 10)                1290      \n",
      "                                                                 \n",
      "=================================================================\n",
      "Total params: 1199882 (4.58 MB)\n",
      "Trainable params: 1199882 (4.58 MB)\n",
      "Non-trainable params: 0 (0.00 Byte)\n",
      "_________________________________________________________________\n"
     ]
    }
   ],
   "source": [
    "model = Sequential()\n",
    "model.add(Conv2D(32,kernel_size=(3,3),activation='relu',input_shape=input_shape))\n",
    "#model.add(MaxPooling2D(pool_size=(2,2)))   #Removing MaxPooling layer: Add accuracy but reduces training speed\n",
    "model.add(Conv2D(64,kernel_size=(3,3),activation='relu'))\n",
    "model.add(MaxPooling2D(pool_size=(2,2)))\n",
    "model.add(Flatten())\n",
    "model.add(Dense(128,activation='relu'))\n",
    "model.add(Dropout(0.5))\n",
    "model.add(Dense(num_classes,activation='softmax'))\n",
    "model.summary()"
   ]
  },
  {
   "cell_type": "markdown",
   "metadata": {
    "id": "iaWXTPf_bpdc"
   },
   "source": [
    "## 1.5. Обучаем модель"
   ]
  },
  {
   "cell_type": "code",
   "execution_count": null,
   "metadata": {
    "colab": {
     "base_uri": "https://localhost:8080/"
    },
    "id": "yVsE2yT0M7NK",
    "outputId": "a0639011-df90-481b-9a49-5883d47c2f79"
   },
   "outputs": [
    {
     "name": "stdout",
     "output_type": "stream",
     "text": [
      "Epoch 1/5\n",
      "1875/1875 [==============================] - 190s 97ms/step - loss: 0.4681 - accuracy: 0.8343 - val_loss: 0.3224 - val_accuracy: 0.8830\n",
      "Epoch 2/5\n",
      "1875/1875 [==============================] - 163s 87ms/step - loss: 0.3095 - accuracy: 0.8875 - val_loss: 0.2538 - val_accuracy: 0.9089\n",
      "Epoch 3/5\n",
      "1875/1875 [==============================] - 161s 86ms/step - loss: 0.2551 - accuracy: 0.9069 - val_loss: 0.2284 - val_accuracy: 0.9159\n",
      "Epoch 4/5\n",
      "1875/1875 [==============================] - 157s 84ms/step - loss: 0.2264 - accuracy: 0.9178 - val_loss: 0.2397 - val_accuracy: 0.9136\n",
      "Epoch 5/5\n",
      "1875/1875 [==============================] - 157s 84ms/step - loss: 0.1991 - accuracy: 0.9281 - val_loss: 0.2182 - val_accuracy: 0.9205\n",
      "313/313 [==============================] - 12s 37ms/step - loss: 0.2182 - accuracy: 0.9205\n"
     ]
    },
    {
     "data": {
      "text/plain": [
       "[0.21821705996990204, 0.9204999804496765]"
      ]
     },
     "execution_count": 8,
     "metadata": {},
     "output_type": "execute_result"
    }
   ],
   "source": [
    "EPOCH = 5\n",
    "\n",
    "model.compile(optimizer='adam',\n",
    "             loss='categorical_crossentropy',\n",
    "             metrics=['accuracy'])\n",
    "\n",
    "history = model.fit(trainX, trainy, batch_size=batch_size, epochs=EPOCH, validation_data=(testX,testy))\n",
    "\n",
    "model.evaluate(testX, testy) # метод evaluate() предназначен для оценки уже обученной модели с использованием данных проверки\n",
    "                                   #(или тестирования) и соответствующих меток. Возвращает значение потерь и значения показателей для модели."
   ]
  },
  {
   "cell_type": "markdown",
   "metadata": {
    "id": "tKqwhetycC7b"
   },
   "source": [
    "## 1.6. Анализируем обученную модель. Строим график (графики) обучения"
   ]
  },
  {
   "cell_type": "code",
   "execution_count": null,
   "metadata": {
    "colab": {
     "base_uri": "https://localhost:8080/",
     "height": 494
    },
    "id": "H2CKO7-vcNhk",
    "outputId": "514fabb7-571e-4208-c831-b6f248e17441"
   },
   "outputs": [
    {
     "data": {
      "text/plain": [
       "<matplotlib.legend.Legend at 0x7d97a4d92230>"
      ]
     },
     "execution_count": 9,
     "metadata": {},
     "output_type": "execute_result"
    },
    {
     "data": {
      "image/png": "[encoded data removed]",
      "text/plain": [
       "<Figure size 640x480 with 1 Axes>"
      ]
     },
     "metadata": {},
     "output_type": "display_data"
    }
   ],
   "source": [
    "N = np.arange(0, EPOCH)\n",
    "plt.style.use(\"ggplot\")\n",
    "plt.figure()\n",
    "plt.plot(N, history.history[\"loss\"], label=\"train_loss\")\n",
    "plt.plot(N, history.history[\"val_loss\"], label=\"val_loss\")\n",
    "plt.plot(N, history.history[\"accuracy\"], label=\"train_accuracy\")\n",
    "plt.plot(N, history.history[\"val_accuracy\"], label=\"val_accuracy\")\n",
    "plt.title(\"Training Loss and Accuracy (Simple NN)\")\n",
    "plt.xlabel(\"Epoch #\")\n",
    "plt.ylabel(\"Loss/Accuracy\")\n",
    "plt.legend()"
   ]
  },
  {
   "cell_type": "markdown",
   "metadata": {
    "id": "ov2Y-9lNbHoP"
   },
   "source": [
    "## 1.7. Загружаем свои изображения. С помощью функции predict() получаем предсказание нейронной сети"
   ]
  },
  {
   "cell_type": "markdown",
   "metadata": {
    "id": "KaPVxLTQdK8E"
   },
   "source": [
    "\n",
    "\n",
    "> Требуется получить предсказания минимум по 5 изображениям, каждое из которых относится к разному классу. Не забудьте добавить метки к каждому классу (для этого можно просто создать список строк, каждая из которых будет соответствовать классу с определенным индексом см. [тех.док.](https://www.kaggle.com/datasets/zalando-research/fashionmnist)). Процент уверенности нейронной сети в своём предсказании выводить обязательно.\n",
    "\n"
   ]
  },
  {
   "cell_type": "code",
   "execution_count": null,
   "metadata": {
    "colab": {
     "base_uri": "https://localhost:8080/",
     "height": 101
    },
    "id": "oMCskxEYepNC",
    "outputId": "0574a204-e1c9-41e5-d9e6-80980b853374"
   },
   "outputs": [
    {
     "data": {
      "text/html": [
       "\n",
       "     <input type=\"file\" id=\"files-9bce1dc3-238a-4246-91d6-ee7f9c5eb8a7\" name=\"files[]\" multiple disabled\n",
       "        style=\"border:none\" />\n",
       "     <output id=\"result-9bce1dc3-238a-4246-91d6-ee7f9c5eb8a7\">\n",
       "      Upload widget is only available when the cell has been executed in the\n",
       "      current browser session. Please rerun this cell to enable.\n",
       "      </output>\n",
       "      <script>// Copyright 2017 Google LLC\n",
       "//\n",
       "// Licensed under the Apache License, Version 2.0 (the \"License\");\n",
       "// you may not use this file except in compliance with the License.\n",
       "// You may obtain a copy of the License at\n",
       "//\n",
       "//      http://www.apache.org/licenses/LICENSE-2.0\n",
       "//\n",
       "// Unless required by applicable law or agreed to in writing, software\n",
       "// distributed under the License is distributed on an \"AS IS\" BASIS,\n",
       "// WITHOUT WARRANTIES OR CONDITIONS OF ANY KIND, either express or implied.\n",
       "// See the License for the specific language governing permissions and\n",
       "// limitations under the License.\n",
       "\n",
       "/**\n",
       " * @fileoverview Helpers for google.colab Python module.\n",
       " */\n",
       "(function(scope) {\n",
       "function span(text, styleAttributes = {}) {\n",
       "  const element = document.createElement('span');\n",
       "  element.textContent = text;\n",
       "  for (const key of Object.keys(styleAttributes)) {\n",
       "    element.style[key] = styleAttributes[key];\n",
       "  }\n",
       "  return element;\n",
       "}\n",
       "\n",
       "// Max number of bytes which will be uploaded at a time.\n",
       "const MAX_PAYLOAD_SIZE = 100 * 1024;\n",
       "\n",
       "function _uploadFiles(inputId, outputId) {\n",
       "  const steps = uploadFilesStep(inputId, outputId);\n",
       "  const outputElement = document.getElementById(outputId);\n",
       "  // Cache steps on the outputElement to make it available for the next call\n",
       "  // to uploadFilesContinue from Python.\n",
       "  outputElement.steps = steps;\n",
       "\n",
       "  return _uploadFilesContinue(outputId);\n",
       "}\n",
       "\n",
       "// This is roughly an async generator (not supported in the browser yet),\n",
       "// where there are multiple asynchronous steps and the Python side is going\n",
       "// to poll for completion of each step.\n",
       "// This uses a Promise to block the python side on completion of each step,\n",
       "// then passes the result of the previous step as the input to the next step.\n",
       "function _uploadFilesContinue(outputId) {\n",
       "  const outputElement = document.getElementById(outputId);\n",
       "  const steps = outputElement.steps;\n",
       "\n",
       "  const next = steps.next(outputElement.lastPromiseValue);\n",
       "  return Promise.resolve(next.value.promise).then((value) => {\n",
       "    // Cache the last promise value to make it available to the next\n",
       "    // step of the generator.\n",
       "    outputElement.lastPromiseValue = value;\n",
       "    return next.value.response;\n",
       "  });\n",
       "}\n",
       "\n",
       "/**\n",
       " * Generator function which is called between each async step of the upload\n",
       " * process.\n",
       " * @param {string} inputId Element ID of the input file picker element.\n",
       " * @param {string} outputId Element ID of the output display.\n",
       " * @return {!Iterable<!Object>} Iterable of next steps.\n",
       " */\n",
       "function* uploadFilesStep(inputId, outputId) {\n",
       "  const inputElement = document.getElementById(inputId);\n",
       "  inputElement.disabled = false;\n",
       "\n",
       "  const outputElement = document.getElementById(outputId);\n",
       "  outputElement.innerHTML = '';\n",
       "\n",
       "  const pickedPromise = new Promise((resolve) => {\n",
       "    inputElement.addEventListener('change', (e) => {\n",
       "      resolve(e.target.files);\n",
       "    });\n",
       "  });\n",
       "\n",
       "  const cancel = document.createElement('button');\n",
       "  inputElement.parentElement.appendChild(cancel);\n",
       "  cancel.textContent = 'Cancel upload';\n",
       "  const cancelPromise = new Promise((resolve) => {\n",
       "    cancel.onclick = () => {\n",
       "      resolve(null);\n",
       "    };\n",
       "  });\n",
       "\n",
       "  // Wait for the user to pick the files.\n",
       "  const files = yield {\n",
       "    promise: Promise.race([pickedPromise, cancelPromise]),\n",
       "    response: {\n",
       "      action: 'starting',\n",
       "    }\n",
       "  };\n",
       "\n",
       "  cancel.remove();\n",
       "\n",
       "  // Disable the input element since further picks are not allowed.\n",
       "  inputElement.disabled = true;\n",
       "\n",
       "  if (!files) {\n",
       "    return {\n",
       "      response: {\n",
       "        action: 'complete',\n",
       "      }\n",
       "    };\n",
       "  }\n",
       "\n",
       "  for (const file of files) {\n",
       "    const li = document.createElement('li');\n",
       "    li.append(span(file.name, {fontWeight: 'bold'}));\n",
       "    li.append(span(\n",
       "        `(${file.type || 'n/a'}) - ${file.size} bytes, ` +\n",
       "        `last modified: ${\n",
       "            file.lastModifiedDate ? file.lastModifiedDate.toLocaleDateString() :\n",
       "                                    'n/a'} - `));\n",
       "    const percent = span('0% done');\n",
       "    li.appendChild(percent);\n",
       "\n",
       "    outputElement.appendChild(li);\n",
       "\n",
       "    const fileDataPromise = new Promise((resolve) => {\n",
       "      const reader = new FileReader();\n",
       "      reader.onload = (e) => {\n",
       "        resolve(e.target.result);\n",
       "      };\n",
       "      reader.readAsArrayBuffer(file);\n",
       "    });\n",
       "    // Wait for the data to be ready.\n",
       "    let fileData = yield {\n",
       "      promise: fileDataPromise,\n",
       "      response: {\n",
       "        action: 'continue',\n",
       "      }\n",
       "    };\n",
       "\n",
       "    // Use a chunked sending to avoid message size limits. See b/62115660.\n",
       "    let position = 0;\n",
       "    do {\n",
       "      const length = Math.min(fileData.byteLength - position, MAX_PAYLOAD_SIZE);\n",
       "      const chunk = new Uint8Array(fileData, position, length);\n",
       "      position += length;\n",
       "\n",
       "      const base64 = btoa(String.fromCharCode.apply(null, chunk));\n",
       "      yield {\n",
       "        response: {\n",
       "          action: 'append',\n",
       "          file: file.name,\n",
       "          data: base64,\n",
       "        },\n",
       "      };\n",
       "\n",
       "      let percentDone = fileData.byteLength === 0 ?\n",
       "          100 :\n",
       "          Math.round((position / fileData.byteLength) * 100);\n",
       "      percent.textContent = `${percentDone}% done`;\n",
       "\n",
       "    } while (position < fileData.byteLength);\n",
       "  }\n",
       "\n",
       "  // All done.\n",
       "  yield {\n",
       "    response: {\n",
       "      action: 'complete',\n",
       "    }\n",
       "  };\n",
       "}\n",
       "\n",
       "scope.google = scope.google || {};\n",
       "scope.google.colab = scope.google.colab || {};\n",
       "scope.google.colab._files = {\n",
       "  _uploadFiles,\n",
       "  _uploadFilesContinue,\n",
       "};\n",
       "})(self);\n",
       "</script> "
      ],
      "text/plain": [
       "<IPython.core.display.HTML object>"
      ]
     },
     "metadata": {},
     "output_type": "display_data"
    },
    {
     "name": "stdout",
     "output_type": "stream",
     "text": [
      "Saving башмак.png to башмак.png\n"
     ]
    },
    {
     "data": {
      "image/png": "[encoded data removed]",
      "text/plain": [
       "<PIL.Image.Image image mode=L size=28x28>"
      ]
     },
     "metadata": {},
     "output_type": "display_data"
    }
   ],
   "source": [
    "import cv2\n",
    "from google.colab.patches import cv2_imshow\n",
    "\n",
    "# Добавляем интерфейс для загрузки изображений напрямую из блокнота\n",
    "from google.colab import files\n",
    "uploaded = files.upload()\n",
    "\n",
    "# загружаем входное изображение, меняем его размер на необходимый и выводим его\n",
    "\n",
    "image = cv2.imread(list(uploaded.keys())[0], cv2.IMREAD_GRAYSCALE) # Преобразование изображения в оттенки серого при считывании\n",
    "image = cv2.resize(image, (28, 28)) # Изменение разрешения изображения\n",
    "image = cv2.bitwise_not(image) # Инверсия цветов (если в оригинале цифра написана черным цветом на белом фоне)\n",
    "orig = image\n",
    "image = image.reshape(-1, 28, 28, 1) # Приводим изображение из вида (28,28) в вид (1, 28, 28, 1)\n",
    "\n",
    "cv2_imshow(orig)"
   ]
  },
  {
   "cell_type": "code",
   "execution_count": null,
   "metadata": {
    "colab": {
     "base_uri": "https://localhost:8080/"
    },
    "id": "G6z77SoSf0zR",
    "outputId": "86ceebb0-02c0-4d6d-cd43-e2e5a1815c05"
   },
   "outputs": [
    {
     "name": "stdout",
     "output_type": "stream",
     "text": [
      "1/1 [==============================] - 0s 130ms/step\n",
      "[[0. 0. 0. 0. 0. 0. 0. 0. 1. 0.]]\n"
     ]
    }
   ],
   "source": [
    "# делаем предсказание на изображении\n",
    "preds = model.predict(image)\n",
    "print(preds)"
   ]
  },
  {
   "cell_type": "markdown",
   "metadata": {
    "id": "2hJWx7inecOh"
   },
   "source": [
    "# Задание №2. Использование глубокой сверточной нейронной сети для классификации изображений по своему датасету"
   ]
  },
  {
   "cell_type": "markdown",
   "metadata": {
    "id": "TBAfQRXTewQp"
   },
   "source": [
    "\n",
    "## 2.1.  Используя датасет, собранный для предыдущей работы, разработайте и обучите **свою** модель глубокой  **сверточной** нейронной сети для классификации изображений\n",
    "\n",
    "\n",
    "\n",
    "\n",
    "\n"
   ]
  },
  {
   "cell_type": "code",
   "execution_count": 1,
   "metadata": {
    "id": "2r9DEUG2_hSb"
   },
   "outputs": [],
   "source": [
    "# Импортируем LabelBinarizer для преобразования текстовых меток в векторы\n",
    "# (например, \"кошка\" -> [1, 0, 0], \"собака\" -> [0, 1, 0], \"панда\" -> [0, 0, 1])\n",
    "from sklearn.preprocessing import LabelBinarizer\n",
    "\n",
    "# Импортируем train_test_split для разделения данных на обучающую и тестовую выборки\n",
    "from sklearn.model_selection import train_test_split\n",
    "\n",
    "# Импортируем classification_report для оценки качества классификации\n",
    "from sklearn.metrics import classification_report\n",
    "\n",
    "# Импортируем Sequential для создания последовательной модели нейронной сети\n",
    "from keras.models import Sequential\n",
    "\n",
    "# Импортируем Dense для создания плотных слоев нейронной сети\n",
    "from keras.layers import Dense\n",
    "\n",
    "# Импортируем SGD и Adam для оптимизации обучения нейронной сети\n",
    "from keras.optimizers import SGD, Adam\n",
    "\n",
    "# Импортируем paths из imutils для удобной работы с путями к изображениям\n",
    "from imutils import paths\n",
    "\n",
    "# Импортируем pyplot из matplotlib для визуализации данных\n",
    "import matplotlib.pyplot as plt\n",
    "\n",
    "# Импортируем numpy для работы с массивами данных\n",
    "import numpy as np\n",
    "\n",
    "# Импортируем random для генерации случайных чисел\n",
    "import random\n",
    "\n",
    "# Импортируем pickle для сериализации и десериализации данных\n",
    "import pickle\n",
    "\n",
    "# Импортируем cv2 для работы с изображениями\n",
    "import cv2\n",
    "\n",
    "# Импортируем os для работы с файловой системой\n",
    "import os\n",
    "\n",
    "# Импортируем cv2_imshow из google.colab.patches для отображения изображений в Colab\n",
    "from google.colab.patches import cv2_imshow"
   ]
  },
  {
   "cell_type": "code",
   "execution_count": null,
   "metadata": {
    "colab": {
     "base_uri": "https://localhost:8080/"
    },
    "id": "_bghl8YNlqHR",
    "outputId": "db35b5e0-d85b-4fe9-fffe-8e7b0658ae54"
   },
   "outputs": [
    {
     "name": "stdout",
     "output_type": "stream",
     "text": [
      "Mounted at /content/gdrive\n"
     ]
    }
   ],
   "source": [
    "from google.colab import drive\n",
    "drive.mount('/content/gdrive')"
   ]
  },
  {
   "cell_type": "markdown",
   "metadata": {
    "id": "tzFK3GXZ_hjw"
   },
   "source": [
    "## 2.2.   Ознакомьтесь с современными архитектурами сверточных нейронных сетей: [см. ссылку](https://medium.com/aiguys/how-cnn-architectures-evolved-c53d3819fef8). На основе рассмотренных архитектур, реализуйте (частично повторяя основные паттерны проектирования) и обучите модель сверточной нейронной сети. Укажите архитектуру, которой Вы \"вдохновились\""
   ]
  },
  {
   "cell_type": "code",
   "execution_count": null,
   "metadata": {
    "id": "gcEXY3ag_hy8"
   },
   "outputs": [],
   "source": [
    "def load_images(imagePaths, compression_size = 32):\n",
    "  \"\"\"\n",
    "  Функция для загрузки изображений и преобразования их в векторы признаков.\n",
    "\n",
    "  Args:\n",
    "    imagePaths: список путей к изображениям.\n",
    "    compression_size: размер сжатия изображения\n",
    "\n",
    "  Returns:\n",
    "    data: список векторов признаков (сжатых изображений, преобразованных в векторы).\n",
    "    labels: список меток классов.\n",
    "  \"\"\"\n",
    "\n",
    "  data = []\n",
    "  labels = []\n",
    "\n",
    "  for imagePath in imagePaths:\n",
    "    # Загрузка изображения\n",
    "    image = cv2.imread(imagePath)\n",
    "\n",
    "    # Изменение разрешения изображения (по умолчанию 32х32х3 -> 3072,)\n",
    "    image = cv2.resize(image, (compression_size, compression_size))\n",
    "\n",
    "    # Добавление изображения в список\n",
    "    data.append(image)\n",
    "\n",
    "    # Извлечение метки класса из пути к изображению\n",
    "    label = imagePath.split(os.path.sep)[-2]\n",
    "\n",
    "    # Добавление метки в список\n",
    "    labels.append(label)\n",
    "\n",
    "  return data, labels"
   ]
  },
  {
   "cell_type": "code",
   "execution_count": null,
   "metadata": {
    "id": "RfJ5RLgCwUYM"
   },
   "outputs": [],
   "source": [
    "# Собираем список путей к каждому изображению и перемешиваем их\n",
    "imagePaths = sorted(list(paths.list_images(\"/content/gdrive/MyDrive/cats_dogs_sheep\")))\n",
    "random.shuffle(imagePaths)"
   ]
  },
  {
   "cell_type": "code",
   "execution_count": null,
   "metadata": {
    "id": "2p-Uo83U_pUw"
   },
   "outputs": [],
   "source": [
    "from google.colab.patches import cv2_imshow\n",
    "\n",
    "compression_size = 32\n",
    "\n",
    "data, labels = load_images(imagePaths, compression_size)"
   ]
  },
  {
   "cell_type": "code",
   "execution_count": null,
   "metadata": {
    "colab": {
     "base_uri": "https://localhost:8080/"
    },
    "id": "fKVwaRCYvt7D",
    "outputId": "cc025d7e-eb06-4d8a-ce69-d961be47d3eb"
   },
   "outputs": [
    {
     "name": "stdout",
     "output_type": "stream",
     "text": [
      "(4526, 32, 32, 3)\n",
      "(4526,)\n"
     ]
    }
   ],
   "source": [
    "data = np.array(data, dtype='float')\n",
    "labels = np.array(labels)\n",
    "\n",
    "# data=data.reshape(len(data), compression_size, compression_size, 3)\n",
    "\n",
    "print(data.shape)\n",
    "print(labels.shape)"
   ]
  },
  {
   "cell_type": "code",
   "execution_count": null,
   "metadata": {
    "colab": {
     "base_uri": "https://localhost:8080/"
    },
    "id": "QMk7E69goP_t",
    "outputId": "4f34902b-19a7-467e-e814-266ed1fbe4a4"
   },
   "outputs": [
    {
     "name": "stdout",
     "output_type": "stream",
     "text": [
      "(3394, 32, 32, 3)\n",
      "(3394, 32, 32, 3)\n"
     ]
    }
   ],
   "source": [
    "(X_train, X_val, Y_train, Y_val) = train_test_split(\n",
    "    data,\n",
    "    labels,\n",
    "    test_size=0.25,\n",
    "    random_state=42)\n",
    "\n",
    "X_train=X_train.astype('float32')/255\n",
    "X_val=X_val.astype('float32')/255\n",
    "\n",
    "print(X_train.shape)\n",
    "print(X_train.shape)"
   ]
  },
  {
   "cell_type": "code",
   "execution_count": null,
   "metadata": {
    "colab": {
     "base_uri": "https://localhost:8080/"
    },
    "id": "a2YBDaSToQ5R",
    "outputId": "acb5e3a1-1bfb-42ea-c7f3-1b33519f409a"
   },
   "outputs": [
    {
     "name": "stdout",
     "output_type": "stream",
     "text": [
      "(3394, 3)\n",
      "(1132, 3)\n",
      "[[0 0 1]\n",
      " [0 1 0]\n",
      " [1 0 0]]\n",
      "[[1 0 0]\n",
      " [0 1 0]\n",
      " [0 1 0]]\n"
     ]
    }
   ],
   "source": [
    "lb = LabelBinarizer()\n",
    "Y_train = lb.fit_transform(Y_train)\n",
    "Y_val = lb.transform(Y_val)\n",
    "\n",
    "print(Y_train.shape)\n",
    "print(Y_val.shape)\n",
    "\n",
    "print(Y_train[:3])\n",
    "print(Y_val[:3])"
   ]
  },
  {
   "cell_type": "code",
   "execution_count": null,
   "metadata": {
    "colab": {
     "base_uri": "https://localhost:8080/",
     "height": 434
    },
    "id": "_GOoTi9cxOMi",
    "outputId": "858cb4ee-3cbd-4d96-e2cc-dbe0b6578f40"
   },
   "outputs": [
    {
     "data": {
      "image/png": "[encoded data removed]",
      "text/plain": [
       "<Figure size 640x480 with 9 Axes>"
      ]
     },
     "metadata": {},
     "output_type": "display_data"
    }
   ],
   "source": [
    "for i in range(1, 10):\n",
    "    plt.subplot(3, 3, i)\n",
    "    plt.imshow(X_train[i], cmap=plt.get_cmap('gray'))\n",
    "\n",
    "plt.show()"
   ]
  },
  {
   "cell_type": "code",
   "execution_count": null,
   "metadata": {
    "colab": {
     "base_uri": "https://localhost:8080/"
    },
    "id": "Wlpj-RZm_jyf",
    "outputId": "b0924d7f-356d-4690-cfeb-9b0fd803a6aa"
   },
   "outputs": [
    {
     "name": "stdout",
     "output_type": "stream",
     "text": [
      "Model: \"sequential_2\"\n",
      "_________________________________________________________________\n",
      " Layer (type)                Output Shape              Param #   \n",
      "=================================================================\n",
      " conv2d_4 (Conv2D)           (None, 32, 32, 128)       3584      \n",
      "                                                                 \n",
      " max_pooling2d_3 (MaxPoolin  (None, 16, 16, 128)       0         \n",
      " g2D)                                                            \n",
      "                                                                 \n",
      " conv2d_5 (Conv2D)           (None, 16, 16, 64)        73792     \n",
      "                                                                 \n",
      " max_pooling2d_4 (MaxPoolin  (None, 8, 8, 64)          0         \n",
      " g2D)                                                            \n",
      "                                                                 \n",
      " flatten_2 (Flatten)         (None, 4096)              0         \n",
      "                                                                 \n",
      " dense_5 (Dense)             (None, 256)               1048832   \n",
      "                                                                 \n",
      " dropout_2 (Dropout)         (None, 256)               0         \n",
      "                                                                 \n",
      " dense_6 (Dense)             (None, 128)               32896     \n",
      "                                                                 \n",
      " dense_7 (Dense)             (None, 3)                 387       \n",
      "                                                                 \n",
      "=================================================================\n",
      "Total params: 1159491 (4.42 MB)\n",
      "Trainable params: 1159491 (4.42 MB)\n",
      "Non-trainable params: 0 (0.00 Byte)\n",
      "_________________________________________________________________\n"
     ]
    }
   ],
   "source": [
    "model = Sequential()\n",
    "model.add(Conv2D(128, (3,3), padding='same', activation='relu',input_shape=(compression_size, compression_size, 3)))\n",
    "model.add(MaxPooling2D(pool_size=(2,2), strides=2))   #Removing MaxPooling layer: Add accuracy but reduces training speed\n",
    "model.add(Conv2D(64,kernel_size=(3,3), padding='same',activation='relu'))\n",
    "model.add(MaxPooling2D(pool_size=(2,2), strides=2))\n",
    "model.add(Flatten())\n",
    "model.add(Dense(256,activation='relu'))\n",
    "model.add(Dropout(0.5))\n",
    "model.add(Dense(128,activation='relu'))\n",
    "model.add(Dense(3,activation='softmax'))\n",
    "model.summary()"
   ]
  },
  {
   "cell_type": "code",
   "execution_count": null,
   "metadata": {
    "id": "oSpsFG8rzsUW"
   },
   "outputs": [],
   "source": [
    "# model = keras.Sequential([\n",
    "#     Conv2D(128, (4,4), strides=(1,1), activation='tanh', input_shape=(compression_size,compression_size,1)),\n",
    "#     AveragePooling2D(pool_size=(2,2), strides=(2,2)),\n",
    "#     Conv2D(64, (4,4), strides=(1,1), activation='tanh'),\n",
    "#     AveragePooling2D(pool_size=(2,2), strides=(2,2)),\n",
    "#     Flatten(),\n",
    "\n",
    "#     Dense(units=120,activation='tanh'),\n",
    "#     Dense(units=84,activation='tanh'),\n",
    "#     Dense(units=3,activation='softmax')\n",
    "# ])"
   ]
  },
  {
   "cell_type": "code",
   "execution_count": null,
   "metadata": {
    "id": "XU4YBFYA0Cvg"
   },
   "outputs": [],
   "source": [
    "# model = keras.Sequential([\n",
    "#     Conv2D(32, (3,3), padding='same', activation='relu', input_shape=(compression_size, compression_size, 1)),\n",
    "#     MaxPooling2D((2, 2), strides=2),\n",
    "#     Conv2D(64, (3,3), padding='same', activation='relu'),\n",
    "#     MaxPooling2D((2, 2), strides=2),\n",
    "#     Flatten(),\n",
    "#     Dense(128, activation='relu'),\n",
    "#     Dense(3,  activation='softmax')\n",
    "# ])\n",
    "\n",
    "# model.summary()"
   ]
  },
  {
   "cell_type": "code",
   "execution_count": null,
   "metadata": {
    "colab": {
     "base_uri": "https://localhost:8080/"
    },
    "id": "pB3DTFELHn6k",
    "outputId": "9c46617c-f199-4703-e509-2deb9d49f0ac"
   },
   "outputs": [
    {
     "data": {
      "text/plain": [
       "array([[[[0.13725491, 0.3137255 , 0.2784314 ],\n",
       "         [0.09803922, 0.23137255, 0.20392157],\n",
       "         [0.02352941, 0.10980392, 0.09019608],\n",
       "         ...,\n",
       "         [0.3372549 , 0.5686275 , 0.47058824],\n",
       "         [0.3137255 , 0.6039216 , 0.47843137],\n",
       "         [0.24705882, 0.54901963, 0.41568628]],\n",
       "\n",
       "        [[0.14509805, 0.30980393, 0.2784314 ],\n",
       "         [0.16078432, 0.36862746, 0.32941177],\n",
       "         [0.17254902, 0.28235295, 0.2627451 ],\n",
       "         ...,\n",
       "         [0.28235295, 0.54509807, 0.43137255],\n",
       "         [0.2509804 , 0.58431375, 0.43137255],\n",
       "         [0.20784314, 0.5294118 , 0.39215687]],\n",
       "\n",
       "        [[0.16078432, 0.3882353 , 0.33333334],\n",
       "         [0.07843138, 0.21960784, 0.18039216],\n",
       "         [0.14117648, 0.28627452, 0.24705882],\n",
       "         ...,\n",
       "         [0.27058825, 0.5803922 , 0.4509804 ],\n",
       "         [0.31764707, 0.627451  , 0.5019608 ],\n",
       "         [0.27058825, 0.6117647 , 0.47843137]],\n",
       "\n",
       "        ...,\n",
       "\n",
       "        [[0.38431373, 0.25882354, 0.12941177],\n",
       "         [0.4392157 , 0.38431373, 0.12941177],\n",
       "         [0.27450982, 0.6313726 , 0.44705883],\n",
       "         ...,\n",
       "         [0.33333334, 0.6666667 , 0.5568628 ],\n",
       "         [0.4117647 , 0.6784314 , 0.6117647 ],\n",
       "         [0.4       , 0.67058825, 0.5921569 ]],\n",
       "\n",
       "        [[0.63529414, 0.64705884, 0.5647059 ],\n",
       "         [0.7764706 , 0.77254903, 0.7529412 ],\n",
       "         [0.7294118 , 0.7137255 , 0.69411767],\n",
       "         ...,\n",
       "         [0.40784314, 0.67058825, 0.5647059 ],\n",
       "         [0.43137255, 0.69803923, 0.6039216 ],\n",
       "         [0.39215687, 0.5686275 , 0.5019608 ]],\n",
       "\n",
       "        [[0.18431373, 0.47843137, 0.08627451],\n",
       "         [0.21960784, 0.49411765, 0.05098039],\n",
       "         [0.20392157, 0.4862745 , 0.01568628],\n",
       "         ...,\n",
       "         [0.57254905, 0.7529412 , 0.7058824 ],\n",
       "         [0.40392157, 0.6862745 , 0.58431375],\n",
       "         [0.42352942, 0.70980394, 0.60784316]]],\n",
       "\n",
       "\n",
       "       [[[0.3372549 , 0.29803923, 0.23137255],\n",
       "         [0.49803922, 0.52156866, 0.32941177],\n",
       "         [0.52156866, 0.5686275 , 0.33333334],\n",
       "         ...,\n",
       "         [0.38039216, 0.3647059 , 0.32156864],\n",
       "         [0.3882353 , 0.37254903, 0.3254902 ],\n",
       "         [0.38431373, 0.37254903, 0.34117648]],\n",
       "\n",
       "        [[0.32941177, 0.2901961 , 0.23137255],\n",
       "         [0.36078432, 0.3764706 , 0.21568628],\n",
       "         [0.36078432, 0.38431373, 0.21960784],\n",
       "         ...,\n",
       "         [0.3647059 , 0.3647059 , 0.30588236],\n",
       "         [0.29803923, 0.29803923, 0.24313726],\n",
       "         [0.31764707, 0.30980393, 0.27058825]],\n",
       "\n",
       "        [[0.30588236, 0.26666668, 0.21176471],\n",
       "         [0.2784314 , 0.24705882, 0.21960784],\n",
       "         [0.30588236, 0.28627452, 0.24313726],\n",
       "         ...,\n",
       "         [0.52156866, 0.5411765 , 0.54901963],\n",
       "         [0.41960785, 0.4392157 , 0.44705883],\n",
       "         [0.39215687, 0.4       , 0.37254903]],\n",
       "\n",
       "        ...,\n",
       "\n",
       "        [[0.27450982, 0.27450982, 0.25882354],\n",
       "         [0.21568628, 0.21960784, 0.20392157],\n",
       "         [0.19215687, 0.21568628, 0.23529412],\n",
       "         ...,\n",
       "         [0.01568628, 0.09803922, 0.18039216],\n",
       "         [0.01960784, 0.10196079, 0.1882353 ],\n",
       "         [0.02352941, 0.11764706, 0.19607843]],\n",
       "\n",
       "        [[0.31764707, 0.29411766, 0.27450982],\n",
       "         [0.2       , 0.1764706 , 0.15686275],\n",
       "         [0.03137255, 0.07450981, 0.09019608],\n",
       "         ...,\n",
       "         [0.02745098, 0.12156863, 0.21568628],\n",
       "         [0.01568628, 0.10980392, 0.20392157],\n",
       "         [0.        , 0.09019608, 0.16862746]],\n",
       "\n",
       "        [[0.30588236, 0.28235295, 0.27450982],\n",
       "         [0.29411766, 0.26666668, 0.2784314 ],\n",
       "         [0.05490196, 0.08235294, 0.09411765],\n",
       "         ...,\n",
       "         [0.00784314, 0.09019608, 0.1764706 ],\n",
       "         [0.        , 0.07450981, 0.16078432],\n",
       "         [0.02745098, 0.09411765, 0.1764706 ]]],\n",
       "\n",
       "\n",
       "       [[[0.25882354, 0.7647059 , 0.6431373 ],\n",
       "         [0.2       , 0.7019608 , 0.5882353 ],\n",
       "         [0.18431373, 0.6392157 , 0.53333336],\n",
       "         ...,\n",
       "         [0.49019608, 0.5176471 , 0.6156863 ],\n",
       "         [0.46666667, 0.5176471 , 0.64705884],\n",
       "         [0.54901963, 0.6509804 , 0.7529412 ]],\n",
       "\n",
       "        [[0.24705882, 0.7019608 , 0.5882353 ],\n",
       "         [0.21176471, 0.7137255 , 0.5882353 ],\n",
       "         [0.22745098, 0.72156864, 0.61960787],\n",
       "         ...,\n",
       "         [0.57254905, 0.59607846, 0.68235296],\n",
       "         [0.3882353 , 0.43137255, 0.5529412 ],\n",
       "         [0.15294118, 0.23921569, 0.3764706 ]],\n",
       "\n",
       "        [[0.22745098, 0.654902  , 0.5254902 ],\n",
       "         [0.16862746, 0.5764706 , 0.4509804 ],\n",
       "         [0.18431373, 0.654902  , 0.5568628 ],\n",
       "         ...,\n",
       "         [0.5254902 , 0.54901963, 0.6627451 ],\n",
       "         [0.65882355, 0.7254902 , 0.83137256],\n",
       "         [0.38431373, 0.48235294, 0.6       ]],\n",
       "\n",
       "        ...,\n",
       "\n",
       "        [[0.09019608, 0.21960784, 0.16078432],\n",
       "         [0.08627451, 0.2       , 0.14117648],\n",
       "         [0.09411765, 0.20784314, 0.14901961],\n",
       "         ...,\n",
       "         [0.75686276, 0.8156863 , 0.8392157 ],\n",
       "         [0.8352941 , 0.87058824, 0.88235295],\n",
       "         [0.8509804 , 0.88235295, 0.89411765]],\n",
       "\n",
       "        [[0.07450981, 0.16078432, 0.12156863],\n",
       "         [0.05882353, 0.12156863, 0.09411765],\n",
       "         [0.07450981, 0.15686275, 0.11372549],\n",
       "         ...,\n",
       "         [0.8627451 , 0.8862745 , 0.8901961 ],\n",
       "         [0.8901961 , 0.9019608 , 0.90588236],\n",
       "         [0.8901961 , 0.9098039 , 0.9137255 ]],\n",
       "\n",
       "        [[0.07058824, 0.13725491, 0.12156863],\n",
       "         [0.07058824, 0.13333334, 0.10588235],\n",
       "         [0.06666667, 0.14901961, 0.11372549],\n",
       "         ...,\n",
       "         [0.8901961 , 0.89411765, 0.8901961 ],\n",
       "         [0.8784314 , 0.8980392 , 0.89411765],\n",
       "         [0.90588236, 0.9098039 , 0.9137255 ]]],\n",
       "\n",
       "\n",
       "       ...,\n",
       "\n",
       "\n",
       "       [[[0.25882354, 0.4117647 , 0.58431375],\n",
       "         [0.22352941, 0.36862746, 0.5137255 ],\n",
       "         [0.19215687, 0.3137255 , 0.46666667],\n",
       "         ...,\n",
       "         [0.29411766, 0.42352942, 0.5137255 ],\n",
       "         [0.43137255, 0.5058824 , 0.6039216 ],\n",
       "         [0.4745098 , 0.6509804 , 0.7921569 ]],\n",
       "\n",
       "        [[0.14901961, 0.13333334, 0.15294118],\n",
       "         [0.09411765, 0.14901961, 0.1764706 ],\n",
       "         [0.13333334, 0.18039216, 0.10980392],\n",
       "         ...,\n",
       "         [0.08235294, 0.10196079, 0.09803922],\n",
       "         [0.10196079, 0.11372549, 0.10980392],\n",
       "         [0.13333334, 0.14117648, 0.11764706]],\n",
       "\n",
       "        [[0.18039216, 0.2       , 0.09019608],\n",
       "         [0.12941177, 0.16470589, 0.41568628],\n",
       "         [0.23137255, 0.26666668, 0.10980392],\n",
       "         ...,\n",
       "         [0.06666667, 0.08235294, 0.0627451 ],\n",
       "         [0.05882353, 0.07450981, 0.05098039],\n",
       "         [0.08235294, 0.09411765, 0.07843138]],\n",
       "\n",
       "        ...,\n",
       "\n",
       "        [[0.6117647 , 0.7882353 , 0.95686275],\n",
       "         [0.62352943, 0.8       , 0.96862745],\n",
       "         [0.62352943, 0.8039216 , 0.9647059 ],\n",
       "         ...,\n",
       "         [0.5137255 , 0.69803923, 0.91764706],\n",
       "         [0.49803922, 0.68235296, 0.9019608 ],\n",
       "         [0.5019608 , 0.6862745 , 0.90588236]],\n",
       "\n",
       "        [[0.61960787, 0.79607844, 0.9647059 ],\n",
       "         [0.61960787, 0.79607844, 0.9647059 ],\n",
       "         [0.627451  , 0.8039216 , 0.9529412 ],\n",
       "         ...,\n",
       "         [0.52156866, 0.69803923, 0.92156863],\n",
       "         [0.5294118 , 0.7058824 , 0.92941177],\n",
       "         [0.52156866, 0.69803923, 0.92156863]],\n",
       "\n",
       "        [[0.60784316, 0.78431374, 0.9529412 ],\n",
       "         [0.62352943, 0.8       , 0.96862745],\n",
       "         [0.627451  , 0.8039216 , 0.9529412 ],\n",
       "         ...,\n",
       "         [0.5294118 , 0.7058824 , 0.92941177],\n",
       "         [0.53333336, 0.70980394, 0.93333334],\n",
       "         [0.5254902 , 0.7019608 , 0.9254902 ]]],\n",
       "\n",
       "\n",
       "       [[[0.23921569, 0.3019608 , 0.36862746],\n",
       "         [0.2784314 , 0.34117648, 0.40784314],\n",
       "         [0.3019608 , 0.39215687, 0.45490196],\n",
       "         ...,\n",
       "         [0.3372549 , 0.38431373, 0.45490196],\n",
       "         [0.3647059 , 0.4117647 , 0.48235294],\n",
       "         [0.4       , 0.42745098, 0.5019608 ]],\n",
       "\n",
       "        [[0.21960784, 0.28235295, 0.34901962],\n",
       "         [0.28627452, 0.34901962, 0.41568628],\n",
       "         [0.32941177, 0.41960785, 0.48235294],\n",
       "         ...,\n",
       "         [0.32941177, 0.39607844, 0.4627451 ],\n",
       "         [0.34117648, 0.40784314, 0.4745098 ],\n",
       "         [0.34901962, 0.40784314, 0.4745098 ]],\n",
       "\n",
       "        [[0.20392157, 0.25882354, 0.32941177],\n",
       "         [0.2627451 , 0.34117648, 0.40784314],\n",
       "         [0.36078432, 0.43137255, 0.49803922],\n",
       "         ...,\n",
       "         [0.34117648, 0.39607844, 0.46666667],\n",
       "         [0.36078432, 0.41568628, 0.4862745 ],\n",
       "         [0.36078432, 0.41568628, 0.4862745 ]],\n",
       "\n",
       "        ...,\n",
       "\n",
       "        [[0.27450982, 0.35686275, 0.46666667],\n",
       "         [0.7294118 , 0.84705883, 0.92156863],\n",
       "         [0.54509807, 0.67058825, 0.80784315],\n",
       "         ...,\n",
       "         [0.23137255, 0.35686275, 0.5176471 ],\n",
       "         [0.16078432, 0.28627452, 0.44705883],\n",
       "         [0.25882354, 0.38039216, 0.53333336]],\n",
       "\n",
       "        [[0.50980395, 0.58431375, 0.6901961 ],\n",
       "         [0.48235294, 0.6156863 , 0.74509805],\n",
       "         [0.5372549 , 0.68235296, 0.77254903],\n",
       "         ...,\n",
       "         [0.3254902 , 0.4392157 , 0.6       ],\n",
       "         [0.28627452, 0.4117647 , 0.57254905],\n",
       "         [0.38431373, 0.5058824 , 0.65882355]],\n",
       "\n",
       "        [[0.3647059 , 0.43529412, 0.5254902 ],\n",
       "         [0.6117647 , 0.7176471 , 0.8392157 ],\n",
       "         [0.5764706 , 0.7058824 , 0.8352941 ],\n",
       "         ...,\n",
       "         [0.05490196, 0.14901961, 0.3137255 ],\n",
       "         [0.21568628, 0.34509805, 0.49803922],\n",
       "         [0.1254902 , 0.21960784, 0.34509805]]],\n",
       "\n",
       "\n",
       "       [[[0.28627452, 0.34901962, 0.41568628],\n",
       "         [0.2901961 , 0.3529412 , 0.41960785],\n",
       "         [0.25490198, 0.3372549 , 0.41960785],\n",
       "         ...,\n",
       "         [0.14901961, 0.15686275, 0.19215687],\n",
       "         [0.12156863, 0.15294118, 0.16862746],\n",
       "         [0.13333334, 0.14901961, 0.16862746]],\n",
       "\n",
       "        [[0.2784314 , 0.34117648, 0.40784314],\n",
       "         [0.28235295, 0.34509805, 0.4117647 ],\n",
       "         [0.25882354, 0.34117648, 0.42352942],\n",
       "         ...,\n",
       "         [0.10196079, 0.13333334, 0.21176471],\n",
       "         [0.12156863, 0.14117648, 0.16470589],\n",
       "         [0.11372549, 0.12941177, 0.14901961]],\n",
       "\n",
       "        [[0.2784314 , 0.34117648, 0.40784314],\n",
       "         [0.28235295, 0.34509805, 0.4117647 ],\n",
       "         [0.25882354, 0.34117648, 0.42352942],\n",
       "         ...,\n",
       "         [0.46666667, 0.53333336, 0.65882355],\n",
       "         [0.1254902 , 0.13333334, 0.1764706 ],\n",
       "         [0.10588235, 0.12156863, 0.14117648]],\n",
       "\n",
       "        ...,\n",
       "\n",
       "        [[0.14117648, 0.17254902, 0.2       ],\n",
       "         [0.1254902 , 0.15686275, 0.18431373],\n",
       "         [0.16078432, 0.18431373, 0.21176471],\n",
       "         ...,\n",
       "         [0.22745098, 0.25882354, 0.31764707],\n",
       "         [0.31764707, 0.34901962, 0.40784314],\n",
       "         [0.28235295, 0.29803923, 0.39607844]],\n",
       "\n",
       "        [[0.13333334, 0.16470589, 0.19215687],\n",
       "         [0.11372549, 0.14509805, 0.17254902],\n",
       "         [0.15294118, 0.1764706 , 0.20392157],\n",
       "         ...,\n",
       "         [0.2627451 , 0.25882354, 0.3372549 ],\n",
       "         [0.2784314 , 0.27450982, 0.3529412 ],\n",
       "         [0.29803923, 0.29803923, 0.39215687]],\n",
       "\n",
       "        [[0.14117648, 0.16470589, 0.19215687],\n",
       "         [0.11764706, 0.14117648, 0.16862746],\n",
       "         [0.14117648, 0.16470589, 0.19215687],\n",
       "         ...,\n",
       "         [0.27450982, 0.3019608 , 0.40784314],\n",
       "         [0.3254902 , 0.33333334, 0.41960785],\n",
       "         [0.32156864, 0.32941177, 0.41960785]]]], dtype=float32)"
      ]
     },
     "execution_count": 36,
     "metadata": {},
     "output_type": "execute_result"
    }
   ],
   "source": [
    "\n",
    "X_train"
   ]
  },
  {
   "cell_type": "code",
   "execution_count": null,
   "metadata": {
    "colab": {
     "base_uri": "https://localhost:8080/"
    },
    "id": "L1r1H5z4Hq3J",
    "outputId": "b5f6832f-2c3f-4184-d4aa-0bf13d65bc70"
   },
   "outputs": [
    {
     "data": {
      "text/plain": [
       "array([[0, 0, 1],\n",
       "       [0, 1, 0],\n",
       "       [1, 0, 0],\n",
       "       ...,\n",
       "       [1, 0, 0],\n",
       "       [1, 0, 0],\n",
       "       [1, 0, 0]])"
      ]
     },
     "execution_count": 34,
     "metadata": {},
     "output_type": "execute_result"
    }
   ],
   "source": [
    "Y_train"
   ]
  },
  {
   "cell_type": "code",
   "execution_count": null,
   "metadata": {
    "colab": {
     "base_uri": "https://localhost:8080/"
    },
    "id": "Xm_yc3wnBa7Z",
    "outputId": "3b15083c-8ff8-466c-b2bc-d0f335986bb0"
   },
   "outputs": [
    {
     "name": "stdout",
     "output_type": "stream",
     "text": [
      "Epoch 1/10\n",
      "107/107 [==============================] - 24s 207ms/step - loss: 1.0846 - accuracy: 0.3886 - val_loss: 1.0274 - val_accuracy: 0.5327\n",
      "Epoch 2/10\n",
      "107/107 [==============================] - 21s 195ms/step - loss: 1.0019 - accuracy: 0.4965 - val_loss: 0.9188 - val_accuracy: 0.5680\n",
      "Epoch 3/10\n",
      "107/107 [==============================] - 22s 203ms/step - loss: 0.9302 - accuracy: 0.5492 - val_loss: 0.8665 - val_accuracy: 0.5875\n",
      "Epoch 4/10\n",
      "107/107 [==============================] - 20s 186ms/step - loss: 0.8877 - accuracy: 0.5766 - val_loss: 0.8363 - val_accuracy: 0.6034\n",
      "Epoch 5/10\n",
      "107/107 [==============================] - 23s 212ms/step - loss: 0.8585 - accuracy: 0.5916 - val_loss: 0.8378 - val_accuracy: 0.6078\n",
      "Epoch 6/10\n",
      "107/107 [==============================] - 21s 198ms/step - loss: 0.8579 - accuracy: 0.5902 - val_loss: 0.8032 - val_accuracy: 0.6413\n",
      "Epoch 7/10\n",
      "107/107 [==============================] - 22s 205ms/step - loss: 0.8198 - accuracy: 0.6226 - val_loss: 0.7878 - val_accuracy: 0.6387\n",
      "Epoch 8/10\n",
      "107/107 [==============================] - 21s 200ms/step - loss: 0.8019 - accuracy: 0.6264 - val_loss: 0.7782 - val_accuracy: 0.6511\n",
      "Epoch 9/10\n",
      "107/107 [==============================] - 22s 205ms/step - loss: 0.7708 - accuracy: 0.6494 - val_loss: 0.8021 - val_accuracy: 0.6201\n",
      "Epoch 10/10\n",
      "107/107 [==============================] - 21s 192ms/step - loss: 0.7618 - accuracy: 0.6535 - val_loss: 0.7504 - val_accuracy: 0.6758\n",
      "36/36 [==============================] - 1s 40ms/step - loss: 0.7504 - accuracy: 0.6758\n"
     ]
    },
    {
     "data": {
      "text/plain": [
       "[0.7503948211669922, 0.6757950782775879]"
      ]
     },
     "execution_count": 37,
     "metadata": {},
     "output_type": "execute_result"
    }
   ],
   "source": [
    "INIT_LR = 0.0001\n",
    "opt = Adam(learning_rate=INIT_LR)\n",
    "\n",
    "model.compile(optimizer=opt,\n",
    "             loss='categorical_crossentropy',\n",
    "             metrics=['accuracy'])\n",
    "\n",
    "history = model.fit(\n",
    "    X_train,\n",
    "    Y_train,\n",
    "    batch_size=32,\n",
    "    epochs=10,\n",
    "    validation_data=(X_val, Y_val))\n",
    "\n",
    "model.evaluate(X_val, Y_val)"
   ]
  },
  {
   "cell_type": "code",
   "execution_count": null,
   "metadata": {
    "colab": {
     "base_uri": "https://localhost:8080/"
    },
    "id": "egpuEVZtzAxL",
    "outputId": "478b8855-9945-4bd2-b5a2-674d663f6135"
   },
   "outputs": [
    {
     "name": "stdout",
     "output_type": "stream",
     "text": [
      "36/36 [==============================] - 1s 39ms/step\n",
      "              precision    recall  f1-score   support\n",
      "\n",
      "        cats       0.62      0.71      0.66       362\n",
      "        dogs       0.62      0.44      0.52       368\n",
      "       sheep       0.76      0.86      0.80       402\n",
      "\n",
      "    accuracy                           0.68      1132\n",
      "   macro avg       0.67      0.67      0.66      1132\n",
      "weighted avg       0.67      0.68      0.67      1132\n",
      "\n"
     ]
    }
   ],
   "source": [
    "predictions = model.predict(X_val, batch_size=32)\n",
    "print(classification_report(Y_val.argmax(axis=1),\n",
    "\tpredictions.argmax(axis=1), target_names=lb.classes_))"
   ]
  },
  {
   "cell_type": "code",
   "execution_count": null,
   "metadata": {
    "colab": {
     "base_uri": "https://localhost:8080/",
     "height": 494
    },
    "id": "dFZrrJZG8Tsk",
    "outputId": "a4f69923-76d0-401e-c12f-2e10f981efda"
   },
   "outputs": [
    {
     "data": {
      "text/plain": [
       "<matplotlib.legend.Legend at 0x7d979bba1f60>"
      ]
     },
     "execution_count": 40,
     "metadata": {},
     "output_type": "execute_result"
    },
    {
     "data": {
      "image/png": "[encoded data removed]",
      "text/plain": [
       "<Figure size 640x480 with 1 Axes>"
      ]
     },
     "metadata": {},
     "output_type": "display_data"
    }
   ],
   "source": [
    "N = np.arange(0, 10)\n",
    "plt.style.use(\"ggplot\")\n",
    "plt.figure()\n",
    "plt.plot(N, history.history[\"loss\"], label=\"loss\")\n",
    "plt.plot(N, history.history[\"val_loss\"], label=\"val_loss\")\n",
    "plt.plot(N, history.history[\"accuracy\"], label=\"train_accuracy\")\n",
    "plt.plot(N, history.history[\"val_accuracy\"], label=\"val_accuracy\")\n",
    "plt.title(\"Training Loss and Accuracy (Simple NN)\")\n",
    "plt.xlabel(\"Epoch #\")\n",
    "plt.ylabel(\"Loss/Accuracy\")\n",
    "plt.legend()"
   ]
  },
  {
   "cell_type": "markdown",
   "metadata": {
    "id": "C102cowZ_kFP"
   },
   "source": [
    "## 2.3. Сохраните полученные модели"
   ]
  },
  {
   "cell_type": "code",
   "execution_count": null,
   "metadata": {
    "id": "xiAyxCnv_l5r"
   },
   "outputs": [],
   "source": [
    "# Ваш код"
   ]
  },
  {
   "cell_type": "markdown",
   "metadata": {
    "id": "T5xCMEpR_mCE"
   },
   "source": [
    "## 2.4. Загрузите обученную модель из прошлой практической работы\n"
   ]
  },
  {
   "cell_type": "code",
   "execution_count": null,
   "metadata": {
    "id": "s0nepRUE_n_G"
   },
   "outputs": [],
   "source": [
    "# Ваш код"
   ]
  },
  {
   "cell_type": "markdown",
   "metadata": {
    "id": "d55xgm9z_oGZ"
   },
   "source": [
    "\n",
    "## 2.5. Сравните между собой точной всех трёх моделей, подавая на вход одинаковые изображения (15 разных изображений). Сравните предсказания каждой из моделей и сделайте выводы"
   ]
  },
  {
   "cell_type": "code",
   "execution_count": null,
   "metadata": {
    "id": "uPaP6z5A_89n"
   },
   "outputs": [],
   "source": [
    "# Ваш код"
   ]
  },
  {
   "cell_type": "markdown",
   "metadata": {
    "id": "FiYiEH3N1qH4"
   },
   "source": [
    "# Задание №3*. Использование глубокой сверточной нейронной сети для восстановления изображения"
   ]
  },
  {
   "cell_type": "markdown",
   "metadata": {
    "id": "Rr7OISUBKMvp"
   },
   "source": [
    "## 3.1. Работа с данными"
   ]
  },
  {
   "cell_type": "markdown",
   "metadata": {
    "id": "PJVARGYG_xwQ"
   },
   "source": [
    "Будем работать с набором данным `fetch_olivetti_faces` из `sklearn`."
   ]
  },
  {
   "cell_type": "markdown",
   "metadata": {
    "id": "kl-BK6WjX-Fc"
   },
   "source": [
    "### 3.1.1. Переведите векторы в настоящие изображения из двух размерностей"
   ]
  },
  {
   "cell_type": "code",
   "execution_count": null,
   "metadata": {
    "id": "j1-HPaz2NMA5"
   },
   "outputs": [],
   "source": [
    "from keras.datasets import fashion_mnist\n",
    "from keras.models import Sequential\n",
    "from keras.layers import Conv2D, MaxPooling2D, Dense, Dropout, Flatten, AveragePooling2D\n",
    "from keras.optimizers import Adam, SGD\n",
    "import matplotlib.pyplot as plt\n",
    "import numpy as np\n",
    "\n",
    "import numpy as np\n",
    "import pandas as pd\n",
    "import matplotlib.pyplot as plt\n",
    "\n",
    "import os\n",
    "os.environ['TF_CPP_MIN_LOG_LEVEL']='2'\n",
    "\n",
    "import keras\n",
    "from keras import backend as K"
   ]
  },
  {
   "cell_type": "code",
   "execution_count": null,
   "metadata": {
    "colab": {
     "base_uri": "https://localhost:8080/"
    },
    "id": "uWD9ztJr_xwQ",
    "outputId": "c418da53-2537-443d-b914-ce0dda562a8b"
   },
   "outputs": [
    {
     "name": "stdout",
     "output_type": "stream",
     "text": [
      "downloading Olivetti faces from https://ndownloader.figshare.com/files/5976027 to /root/scikit_learn_data\n"
     ]
    }
   ],
   "source": [
    "from sklearn.datasets import fetch_olivetti_faces\n",
    "from sklearn.model_selection import train_test_split\n",
    "\n",
    "data, _ = fetch_olivetti_faces(return_X_y=True)\n",
    "train, test = train_test_split(data, test_size=0.2, random_state=4)"
   ]
  },
  {
   "cell_type": "code",
   "execution_count": null,
   "metadata": {
    "colab": {
     "base_uri": "https://localhost:8080/"
    },
    "id": "BweSEFYmX8df",
    "outputId": "d4e41411-9ddb-42a2-8fed-eb07d4ac8a37"
   },
   "outputs": [
    {
     "data": {
      "text/plain": [
       "(320, 4096)"
      ]
     },
     "execution_count": 3,
     "metadata": {},
     "output_type": "execute_result"
    }
   ],
   "source": [
    "train.shape"
   ]
  },
  {
   "cell_type": "markdown",
   "metadata": {
    "id": "cFHMUzpMXzNH"
   },
   "source": [
    "Сейчас изображение - это вектор, имеющий размерность 4096."
   ]
  },
  {
   "cell_type": "code",
   "execution_count": null,
   "metadata": {
    "colab": {
     "base_uri": "https://localhost:8080/"
    },
    "id": "_ku9ipjhX6CB",
    "outputId": "ee82eb45-b632-4066-f662-a2ccf699b72a"
   },
   "outputs": [
    {
     "name": "stdout",
     "output_type": "stream",
     "text": [
      "(80, 64, 64)\n",
      "(320, 64, 64)\n"
     ]
    }
   ],
   "source": [
    "# Ваш код здесь\n",
    "\n",
    "train = train.reshape((train.shape[0], 64, 64))\n",
    "test = test.reshape((test.shape[0], 64, 64))\n",
    "\n",
    "print(test.shape)\n",
    "print(train.shape)"
   ]
  },
  {
   "cell_type": "markdown",
   "metadata": {
    "id": "8Vrbf_SYYEaM"
   },
   "source": [
    "### 3.1.2. Отрисуйте несколько примеров"
   ]
  },
  {
   "cell_type": "code",
   "execution_count": null,
   "metadata": {
    "colab": {
     "base_uri": "https://localhost:8080/",
     "height": 224
    },
    "id": "OiUzTMu2Ymqo",
    "outputId": "b7c19390-7282-4afd-9dcc-9e9b8d3d2d7f"
   },
   "outputs": [
    {
     "data": {
      "image/png": "[encoded data removed]",
      "text/plain": [
       "<Figure size 1500x1000 with 5 Axes>"
      ]
     },
     "metadata": {},
     "output_type": "display_data"
    }
   ],
   "source": [
    "import matplotlib.pyplot as plt\n",
    "\n",
    "\n",
    "fig, ax = plt.subplots(1, 5, figsize=(15, 10))\n",
    "\n",
    "for i in range(5):\n",
    "    ax[i].imshow(train[i], cmap='gray')\n",
    "    ax[i].axis('off')"
   ]
  },
  {
   "cell_type": "markdown",
   "metadata": {
    "id": "MDbWz6kIDIdq"
   },
   "source": [
    "Поделим данные на X и y, где X - это верхняя часть лица человека, на этом модель будет обучаться, а y - это нижняя часть лица человека - её будем предсказывать."
   ]
  },
  {
   "cell_type": "code",
   "execution_count": null,
   "metadata": {
    "id": "0Y31rNs8AkHw"
   },
   "outputs": [],
   "source": [
    "n_pixels = train.shape[1]\n",
    "\n",
    "# Upper half of the faces\n",
    "X_train = train[:, :(n_pixels + 1) // 2, :]\n",
    "# Lower half of the faces\n",
    "y_train = train[:, n_pixels // 2:, :]\n",
    "\n",
    "X_test = test[:, :(n_pixels + 1) // 2, :]\n",
    "y_test = test[:, n_pixels // 2:, :]"
   ]
  },
  {
   "cell_type": "code",
   "execution_count": null,
   "metadata": {
    "colab": {
     "base_uri": "https://localhost:8080/"
    },
    "id": "Gn8OgMu5Znnh",
    "outputId": "5ee8d0b4-a85c-4b3c-ad9f-ff3f65a43be7"
   },
   "outputs": [
    {
     "name": "stdout",
     "output_type": "stream",
     "text": [
      "(320, 32, 64)\n",
      "(320, 32, 64)\n"
     ]
    }
   ],
   "source": [
    "print(X_train.shape)\n",
    "print(y_train.shape)"
   ]
  },
  {
   "cell_type": "markdown",
   "metadata": {
    "id": "7q4nmYnMDTzY"
   },
   "source": [
    "Вот один пример обучающей пары."
   ]
  },
  {
   "cell_type": "code",
   "execution_count": null,
   "metadata": {
    "colab": {
     "base_uri": "https://localhost:8080/",
     "height": 306
    },
    "id": "GYpecml0_xwS",
    "outputId": "dabb31aa-f2db-49c6-fbec-4b947b29854c"
   },
   "outputs": [
    {
     "data": {
      "image/png": "[encoded data removed]",
      "text/plain": [
       "<Figure size 1500x800 with 2 Axes>"
      ]
     },
     "metadata": {},
     "output_type": "display_data"
    }
   ],
   "source": [
    "import matplotlib.pyplot as plt\n",
    "\n",
    "idx = 0\n",
    "\n",
    "fig, ax = plt.subplots(1, 2, figsize=(15, 8))\n",
    "ax[0].imshow(X_train[idx], cmap='gray')\n",
    "ax[0].set_title('X')\n",
    "ax[1].imshow(y_train[idx], cmap='gray')\n",
    "ax[1].set_title('y')\n",
    "ax[0].axis('off')\n",
    "ax[1].axis('off')\n",
    "\n",
    "plt.show()"
   ]
  },
  {
   "cell_type": "markdown",
   "metadata": {
    "id": "-MQUIAGaeIaI"
   },
   "source": [
    "### 3.1.3. Измените размерность y\n",
    "Остается только изменить размерность y, т.к. сейчас $y$ - картинка 32x64, а выход нейронной сети у нас будет одномерный и равный 32 * 64 = 2048."
   ]
  },
  {
   "cell_type": "markdown",
   "metadata": {
    "id": "TaoQfXrzGkV5"
   },
   "source": [
    "## 3.2. Создайте архитектуру для этой задачи"
   ]
  },
  {
   "cell_type": "code",
   "execution_count": null,
   "metadata": {
    "colab": {
     "base_uri": "https://localhost:8080/"
    },
    "id": "O0cB3seMGkV_",
    "outputId": "e6fe34e1-47b8-4efb-99b6-9c53b2f9a612"
   },
   "outputs": [
    {
     "name": "stdout",
     "output_type": "stream",
     "text": [
      "Model: \"sequential_3\"\n",
      "_________________________________________________________________\n",
      " Layer (type)                Output Shape              Param #   \n",
      "=================================================================\n",
      " conv2d_6 (Conv2D)           (None, 32, 64, 128)       1280      \n",
      "                                                                 \n",
      " max_pooling2d_5 (MaxPoolin  (None, 16, 32, 128)       0         \n",
      " g2D)                                                            \n",
      "                                                                 \n",
      " conv2d_7 (Conv2D)           (None, 16, 32, 64)        73792     \n",
      "                                                                 \n",
      " max_pooling2d_6 (MaxPoolin  (None, 8, 16, 64)         0         \n",
      " g2D)                                                            \n",
      "                                                                 \n",
      " flatten_3 (Flatten)         (None, 8192)              0         \n",
      "                                                                 \n",
      " dense_8 (Dense)             (None, 4096)              33558528  \n",
      "                                                                 \n",
      " dense_9 (Dense)             (None, 2048)              8390656   \n",
      "                                                                 \n",
      "=================================================================\n",
      "Total params: 42024256 (160.31 MB)\n",
      "Trainable params: 42024256 (160.31 MB)\n",
      "Non-trainable params: 0 (0.00 Byte)\n",
      "_________________________________________________________________\n"
     ]
    }
   ],
   "source": [
    "model2 = keras.Sequential([\n",
    "    Conv2D(128, (3,3), padding='same', activation='relu', input_shape=(32, 64, 1)),\n",
    "    MaxPooling2D((2, 2), strides=2),\n",
    "    Conv2D(64, (3,3), padding='same', activation='relu'),\n",
    "    MaxPooling2D((2, 2), strides=2),\n",
    "    Flatten(),\n",
    "    Dense(4096, activation='relu'),\n",
    "    Dense(32*64,  activation='sigmoid')\n",
    "])\n",
    "\n",
    "model2.summary()"
   ]
  },
  {
   "cell_type": "markdown",
   "metadata": {
    "id": "jvwQpCIsGkWA"
   },
   "source": [
    "## 3.3. Скомпилируйте сеть\n",
    "\n",
    "Подберите нужную функцию потерь и метрику. Оптимизатор можете использовать 'adam'"
   ]
  },
  {
   "cell_type": "code",
   "execution_count": null,
   "metadata": {
    "colab": {
     "base_uri": "https://localhost:8080/"
    },
    "id": "OgDsrVXGITGA",
    "outputId": "a88d2133-159f-4619-a78a-74c7bcc4cd7f"
   },
   "outputs": [
    {
     "name": "stdout",
     "output_type": "stream",
     "text": [
      "(320, 2048)\n",
      "(80, 2048)\n"
     ]
    }
   ],
   "source": [
    "y_train = y_train.reshape(len(y_train), 2048)\n",
    "y_test = y_test.reshape(len(y_test), 2048)\n",
    "\n",
    "print(y_train.shape)\n",
    "print(y_test.shape)"
   ]
  },
  {
   "cell_type": "markdown",
   "metadata": {
    "id": "Pn5YCcRkKspv"
   },
   "source": []
  },
  {
   "cell_type": "code",
   "execution_count": null,
   "metadata": {
    "colab": {
     "base_uri": "https://localhost:8080/"
    },
    "id": "NwoUip0-GkWA",
    "outputId": "3ea583c7-e003-4c19-a0e5-3110f6bb716e"
   },
   "outputs": [
    {
     "name": "stdout",
     "output_type": "stream",
     "text": [
      "Epoch 1/5\n",
      "10/10 [==============================] - 14s 1s/step - loss: 0.0225 - mse: 0.0225 - val_loss: 0.0203 - val_mse: 0.0203\n",
      "Epoch 2/5\n",
      "10/10 [==============================] - 12s 1s/step - loss: 0.0207 - mse: 0.0207 - val_loss: 0.0200 - val_mse: 0.0200\n",
      "Epoch 3/5\n",
      "10/10 [==============================] - 13s 1s/step - loss: 0.0203 - mse: 0.0203 - val_loss: 0.0192 - val_mse: 0.0192\n",
      "Epoch 4/5\n",
      "10/10 [==============================] - 13s 1s/step - loss: 0.0194 - mse: 0.0194 - val_loss: 0.0182 - val_mse: 0.0182\n",
      "Epoch 5/5\n",
      "10/10 [==============================] - 13s 1s/step - loss: 0.0179 - mse: 0.0179 - val_loss: 0.0170 - val_mse: 0.0170\n",
      "3/3 [==============================] - 1s 189ms/step - loss: 0.0170 - mse: 0.0170\n"
     ]
    },
    {
     "data": {
      "text/plain": [
       "[0.017033370211720467, 0.017033370211720467]"
      ]
     },
     "execution_count": 50,
     "metadata": {},
     "output_type": "execute_result"
    }
   ],
   "source": [
    "INIT_LR = 0.001\n",
    "opt = Adam(learning_rate=INIT_LR)\n",
    "\n",
    "model2.compile(optimizer=opt,\n",
    "             loss='mse',\n",
    "             metrics=['mse'])\n",
    "\n",
    "history = model2.fit(\n",
    "    X_train,\n",
    "    y_train,\n",
    "    batch_size=32,\n",
    "    epochs=5,\n",
    "    validation_data=(X_test, y_test))\n",
    "\n",
    "model2.evaluate(X_test, y_test)"
   ]
  },
  {
   "cell_type": "markdown",
   "metadata": {
    "id": "QQDeimPrGkWA"
   },
   "source": [
    "## 3.4. Обучите нейросеть\n",
    "\n",
    "Выберите нужное количество эпох.\n"
   ]
  },
  {
   "cell_type": "markdown",
   "metadata": {
    "id": "_y_TeRgPHDoA"
   },
   "source": [
    "## 3.5. Сделайте предсказания на тестовых данных"
   ]
  },
  {
   "cell_type": "code",
   "execution_count": null,
   "metadata": {
    "colab": {
     "base_uri": "https://localhost:8080/"
    },
    "id": "rrplhd2tLkZ7",
    "outputId": "4ea778c2-ff0c-4709-d71d-f406a9679227"
   },
   "outputs": [
    {
     "name": "stdout",
     "output_type": "stream",
     "text": [
      "5/5 [==============================] - 1s 121ms/step\n"
     ]
    }
   ],
   "source": [
    "preds = model2.predict(X_test, batch_size=16)"
   ]
  },
  {
   "cell_type": "markdown",
   "metadata": {
    "id": "RUgzV344HDoB"
   },
   "source": [
    "## 3.6. Посчитайте метрику качества на тестовых данных"
   ]
  },
  {
   "cell_type": "code",
   "execution_count": null,
   "metadata": {
    "colab": {
     "base_uri": "https://localhost:8080/"
    },
    "id": "ZcUmYJetHDoB",
    "outputId": "c218e781-fbe4-4508-9c82-aacf055d6ef1"
   },
   "outputs": [
    {
     "data": {
      "text/plain": [
       "0.103805706"
      ]
     },
     "execution_count": 52,
     "metadata": {},
     "output_type": "execute_result"
    }
   ],
   "source": [
    "# Ваш код здесь\n",
    "\n",
    "from sklearn.metrics import mean_absolute_error\n",
    "\n",
    "mean_absolute_error(preds, y_test)"
   ]
  },
  {
   "cell_type": "markdown",
   "metadata": {
    "id": "gHWdJ-WmNYZB"
   },
   "source": [
    "## 3.7. Преобразуйте предсказанные векторы в двумерное изображение (поменяйте их размерность)"
   ]
  },
  {
   "cell_type": "code",
   "execution_count": null,
   "metadata": {
    "colab": {
     "base_uri": "https://localhost:8080/"
    },
    "id": "3HvIZh6AIHHM",
    "outputId": "f734ee6a-a1e3-482b-8361-cb690d397a3f"
   },
   "outputs": [
    {
     "name": "stdout",
     "output_type": "stream",
     "text": [
      "(80, 32, 64)\n"
     ]
    }
   ],
   "source": [
    "preds = preds.reshape(80, 32, 64)\n",
    "y_test = y_test.reshape(80, 32, 64)\n",
    "\n",
    "print(preds.shape)"
   ]
  },
  {
   "cell_type": "markdown",
   "metadata": {
    "id": "LzmfZBw1GAQ9"
   },
   "source": [
    "Отрисуйте все предсказания."
   ]
  },
  {
   "cell_type": "code",
   "execution_count": null,
   "metadata": {
    "colab": {
     "base_uri": "https://localhost:8080/",
     "height": 1000
    },
    "id": "CeWU1R7gH7Ag",
    "outputId": "87dbc919-1b61-47a2-8749-9224b23d0630"
   },
   "outputs": [
    {
     "data": {
      "image/png": "[encoded data removed]",
      "text/plain": [
       "<Figure size 600x1500 with 10 Axes>"
      ]
     },
     "metadata": {},
     "output_type": "display_data"
    }
   ],
   "source": [
    "# Пример кода:\n",
    "\n",
    "n_faces = 5\n",
    "n_cols = 2\n",
    "image_shape = (64, 64)\n",
    "plt.figure(figsize=(3 * n_cols, 3 * n_faces))\n",
    "\n",
    "\n",
    "for i in range(5):\n",
    "    true_face = np.vstack((X_test[i], y_test[i]))\n",
    "\n",
    "    if i:\n",
    "        sub = plt.subplot(n_faces, n_cols, i * n_cols + 1)\n",
    "    else:\n",
    "        sub = plt.subplot(n_faces, n_cols, i * n_cols + 1, title=\"true faces\")\n",
    "\n",
    "    sub.axis(\"off\")\n",
    "    sub.imshow(\n",
    "        true_face.reshape(image_shape), cmap=plt.cm.gray, interpolation=\"nearest\"\n",
    "    )\n",
    "\n",
    "    completed_face = np.vstack((X_test[i], preds[i]))\n",
    "\n",
    "    if i:\n",
    "        sub = plt.subplot(n_faces, n_cols, i * n_cols + 2)\n",
    "\n",
    "    else:\n",
    "        sub = plt.subplot(n_faces, n_cols, i * n_cols + 2)\n",
    "\n",
    "    sub.axis(\"off\")\n",
    "    sub.imshow(\n",
    "        completed_face.reshape(image_shape),\n",
    "        cmap=plt.cm.gray,\n",
    "        interpolation=\"nearest\",\n",
    "    )"
   ]
  }
 ],
 "metadata": {
  "accelerator": "GPU",
  "colab": {
   "gpuType": "T4",
   "provenance": []
  },
  "kernelspec": {
   "display_name": "Python 3 (ipykernel)",
   "language": "python",
   "name": "python3"
  },
  "language_info": {
   "codemirror_mode": {
    "name": "ipython",
    "version": 3
   },
   "file_extension": ".py",
   "mimetype": "text/x-python",
   "name": "python",
   "nbconvert_exporter": "python",
   "pygments_lexer": "ipython3",
   "version": "3.12.1"
  }
 },
 "nbformat": 4,
 "nbformat_minor": 4
}
